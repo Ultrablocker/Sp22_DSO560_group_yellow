{
 "cells": [
  {
   "cell_type": "code",
   "execution_count": 1,
   "metadata": {},
   "outputs": [],
   "source": [
    "# perform lemmatization (not recommended when using any pretrained embedding)\n",
    "LEMMA = False\n",
    "# size of the vocab for\n",
    "VOCAB_SIZE = 20000\n",
    "# for self attention\n",
    "DATA_POINTS = 10\n",
    "DIMENSIONS = 240\n",
    "MAX_SEQUENCE_LENGTH = 256\n",
    "# use gpu\n",
    "USE_GPU = 0"
   ]
  },
  {
   "cell_type": "code",
   "execution_count": 2,
   "metadata": {},
   "outputs": [],
   "source": [
    "# !pip install tensorflow"
   ]
  },
  {
   "cell_type": "code",
   "execution_count": 3,
   "metadata": {},
   "outputs": [],
   "source": [
    "# !pip install keras"
   ]
  },
  {
   "cell_type": "code",
   "execution_count": 4,
   "metadata": {},
   "outputs": [
    {
     "name": "stdout",
     "output_type": "stream",
     "text": [
      "[name: \"/device:CPU:0\"\n",
      "device_type: \"CPU\"\n",
      "memory_limit: 268435456\n",
      "locality {\n",
      "}\n",
      "incarnation: 14436410271488284987\n",
      "xla_global_id: -1\n",
      ", name: \"/device:GPU:0\"\n",
      "device_type: \"GPU\"\n",
      "memory_limit: 7806648320\n",
      "locality {\n",
      "  bus_id: 1\n",
      "  links {\n",
      "  }\n",
      "}\n",
      "incarnation: 14561076554466654689\n",
      "physical_device_desc: \"device: 0, name: NVIDIA GeForce RTX 3080, pci bus id: 0000:07:00.0, compute capability: 8.6\"\n",
      "xla_global_id: 416903419\n",
      "]\n"
     ]
    }
   ],
   "source": [
    "from tensorflow.python.client import device_lib\n",
    "print(device_lib.list_local_devices())"
   ]
  },
  {
   "cell_type": "code",
   "execution_count": 5,
   "metadata": {},
   "outputs": [],
   "source": [
    "# !python -m spacy download en_core_web_md"
   ]
  },
  {
   "cell_type": "code",
   "execution_count": 29,
   "metadata": {},
   "outputs": [],
   "source": [
    "from tensorflow import keras\n",
    "import tensorflow as tf\n",
    "from keras.layers import Input, Dense, LSTM, Flatten, concatenate, Activation, RepeatVector, Permute\n",
    "from keras.models import Model\n",
    "from keras.models import Sequential\n",
    "from keras.layers import Dense\n",
    "from keras.layers import Embedding\n",
    "from keras.preprocessing.sequence import pad_sequences\n",
    "from tensorflow.keras.optimizers import Adam\n",
    "#from keras_self_attention import SeqSelfAttention\n",
    "from random import randint\n",
    "from numpy import array, argmax, asarray, zeros\n",
    "import numpy as np \n",
    "import pandas as pd\n",
    "import spacy\n",
    "import re\n",
    "from nltk.corpus import stopwords\n",
    "from sklearn.feature_extraction.text import CountVectorizer\n",
    "import nltk\n",
    "from nltk.stem import WordNetLemmatizer\n",
    "from nltk.corpus import wordnet\n",
    "from textacy import preprocessing\n",
    "from sklearn.feature_extraction.text import TfidfVectorizer\n",
    "from sklearn.decomposition import NMF\n",
    "nlp = spacy.load('en_core_web_md')"
   ]
  },
  {
   "cell_type": "code",
   "execution_count": 7,
   "metadata": {},
   "outputs": [
    {
     "data": {
      "text/plain": [
       "[PhysicalDevice(name='/physical_device:GPU:0', device_type='GPU')]"
      ]
     },
     "execution_count": 7,
     "metadata": {},
     "output_type": "execute_result"
    }
   ],
   "source": [
    "tf.config.list_physical_devices('GPU')"
   ]
  },
  {
   "cell_type": "code",
   "execution_count": 8,
   "metadata": {},
   "outputs": [
    {
     "data": {
      "text/html": [
       "<div>\n",
       "<style scoped>\n",
       "    .dataframe tbody tr th:only-of-type {\n",
       "        vertical-align: middle;\n",
       "    }\n",
       "\n",
       "    .dataframe tbody tr th {\n",
       "        vertical-align: top;\n",
       "    }\n",
       "\n",
       "    .dataframe thead th {\n",
       "        text-align: right;\n",
       "    }\n",
       "</style>\n",
       "<table border=\"1\" class=\"dataframe\">\n",
       "  <thead>\n",
       "    <tr style=\"text-align: right;\">\n",
       "      <th></th>\n",
       "      <th>Unnamed: 0</th>\n",
       "      <th>product</th>\n",
       "      <th>narrative</th>\n",
       "    </tr>\n",
       "  </thead>\n",
       "  <tbody>\n",
       "    <tr>\n",
       "      <th>0</th>\n",
       "      <td>0</td>\n",
       "      <td>credit_card</td>\n",
       "      <td>purchase order day shipping amount receive pro...</td>\n",
       "    </tr>\n",
       "    <tr>\n",
       "      <th>1</th>\n",
       "      <td>1</td>\n",
       "      <td>credit_card</td>\n",
       "      <td>forwarded message date tue subject please inve...</td>\n",
       "    </tr>\n",
       "    <tr>\n",
       "      <th>2</th>\n",
       "      <td>2</td>\n",
       "      <td>retail_banking</td>\n",
       "      <td>forwarded message cc sent friday pdt subject f...</td>\n",
       "    </tr>\n",
       "    <tr>\n",
       "      <th>3</th>\n",
       "      <td>3</td>\n",
       "      <td>credit_reporting</td>\n",
       "      <td>payment history missing credit report speciali...</td>\n",
       "    </tr>\n",
       "    <tr>\n",
       "      <th>4</th>\n",
       "      <td>4</td>\n",
       "      <td>credit_reporting</td>\n",
       "      <td>payment history missing credit report made mis...</td>\n",
       "    </tr>\n",
       "  </tbody>\n",
       "</table>\n",
       "</div>"
      ],
      "text/plain": [
       "   Unnamed: 0           product  \\\n",
       "0           0       credit_card   \n",
       "1           1       credit_card   \n",
       "2           2    retail_banking   \n",
       "3           3  credit_reporting   \n",
       "4           4  credit_reporting   \n",
       "\n",
       "                                           narrative  \n",
       "0  purchase order day shipping amount receive pro...  \n",
       "1  forwarded message date tue subject please inve...  \n",
       "2  forwarded message cc sent friday pdt subject f...  \n",
       "3  payment history missing credit report speciali...  \n",
       "4  payment history missing credit report made mis...  "
      ]
     },
     "execution_count": 8,
     "metadata": {},
     "output_type": "execute_result"
    }
   ],
   "source": [
    "df = pd.read_csv('complaints_processed.csv')\n",
    "df.head()\n"
   ]
  },
  {
   "cell_type": "code",
   "execution_count": 9,
   "metadata": {},
   "outputs": [],
   "source": [
    "complaint_types = list(df['product'].value_counts().index)"
   ]
  },
  {
   "cell_type": "code",
   "execution_count": 10,
   "metadata": {},
   "outputs": [],
   "source": [
    "NUM_CLASSES = len(complaint_types)"
   ]
  },
  {
   "cell_type": "code",
   "execution_count": 11,
   "metadata": {},
   "outputs": [],
   "source": [
    "df['narrative'] = df['narrative'].apply(str)"
   ]
  },
  {
   "cell_type": "code",
   "execution_count": 12,
   "metadata": {},
   "outputs": [],
   "source": [
    "preproc = preprocessing.make_pipeline(\n",
    "    preprocessing.normalize.hyphenated_words,\n",
    "    preprocessing.remove.accents,\n",
    ")"
   ]
  },
  {
   "cell_type": "code",
   "execution_count": 13,
   "metadata": {},
   "outputs": [],
   "source": [
    "set(stopwords.words('english'))\n",
    "# removing some negative words from stopwords list\n",
    "nltk_stopwords = set(stopwords.words('english'))\n",
    "nltk_stopwords.remove('below')\n",
    "nltk_stopwords.remove(\"aren't\")\n",
    "nltk_stopwords.remove('couldn')\n",
    "nltk_stopwords.remove(\"couldn't\")\n",
    "nltk_stopwords.remove(\"didn't\")\n",
    "nltk_stopwords = list(nltk_stopwords)\n",
    "# add some abstract terms\n",
    "nltk_stopwords.append('like')\n",
    "nltk_stopwords.append('please')\n",
    "\n",
    "nltk_stopwords = set(nltk_stopwords)"
   ]
  },
  {
   "cell_type": "code",
   "execution_count": 14,
   "metadata": {},
   "outputs": [
    {
     "name": "stderr",
     "output_type": "stream",
     "text": [
      "C:\\Users\\Robert\\AppData\\Local\\Temp\\ipykernel_2148\\868481445.py:2: FutureWarning: The default value of regex will change from True to False in a future version.\n",
      "  df['narrative'] = df['narrative'].str.replace(r'\\b([a-z]|[A-Z]){15,}\\b', '', case=False)\n"
     ]
    }
   ],
   "source": [
    "# removing all words with more than 15 digits\n",
    "df['narrative'] = df['narrative'].str.replace(r'\\b([a-z]|[A-Z]){15,}\\b', '', case=False)"
   ]
  },
  {
   "cell_type": "code",
   "execution_count": 15,
   "metadata": {},
   "outputs": [
    {
     "name": "stderr",
     "output_type": "stream",
     "text": [
      "C:\\Users\\Robert\\AppData\\Local\\Temp\\ipykernel_2148\\1200782744.py:2: FutureWarning: The default value of regex will change from True to False in a future version.\n",
      "  df['narrative'] = df['narrative'].str.replace(r'(.)\\1{3,}?', '', case=False)\n"
     ]
    }
   ],
   "source": [
    "# removing all characters that appear more than 2 times\n",
    "df['narrative'] = df['narrative'].str.replace(r'(.)\\1{3,}?', '', case=False)\n"
   ]
  },
  {
   "cell_type": "code",
   "execution_count": 16,
   "metadata": {},
   "outputs": [],
   "source": [
    "labels = df['product']"
   ]
  },
  {
   "cell_type": "markdown",
   "metadata": {},
   "source": [
    "2. model preparation\n",
    "    1. tokenize\n",
    "    2. integer encoding\n",
    "    "
   ]
  },
  {
   "cell_type": "code",
   "execution_count": 17,
   "metadata": {},
   "outputs": [],
   "source": [
    "# tokenize text\n",
    "from keras.preprocessing.text import Tokenizer\n",
    "tokenizer = Tokenizer(num_words=5000, oov_token=\"UNKNOWN_TOKEN\")\n",
    "tokenizer.fit_on_texts(df['narrative'])"
   ]
  },
  {
   "cell_type": "code",
   "execution_count": 18,
   "metadata": {},
   "outputs": [],
   "source": [
    "# integer encoding\n",
    "from typing import List\n",
    "def get_max_token_length_per_doc(docs: List[List[str]])-> int:\n",
    "    return max(list(map(lambda x: len(x.split()), docs)))\n",
    "\n",
    "# get the max length in terms of token length\n",
    "max_length = get_max_token_length_per_doc(df['narrative'])\n",
    "\n",
    "\n",
    "def integer_encode_documents(docs, tokenizer):\n",
    "    return tokenizer.texts_to_sequences(docs)\n",
    "\n",
    "from keras.preprocessing.sequence import pad_sequences\n",
    "# integer encode the documents\n",
    "encoded_docs = integer_encode_documents(df['narrative'], tokenizer)\n",
    "# this is a list of lists, the numbers represent the index position of that word.\n",
    "# for instance, 33 means the 33rd word in the vocabulary\n",
    "padded_docs = pad_sequences(encoded_docs, maxlen=MAX_SEQUENCE_LENGTH, padding='post')"
   ]
  },
  {
   "cell_type": "code",
   "execution_count": 19,
   "metadata": {},
   "outputs": [],
   "source": [
    "from sklearn.preprocessing import LabelBinarizer\n",
    "encoder = LabelBinarizer()\n",
    "transfomed_labels = encoder.fit_transform(labels)\n",
    "# print(transfomed_labels)"
   ]
  },
  {
   "cell_type": "code",
   "execution_count": 20,
   "metadata": {},
   "outputs": [],
   "source": [
    "# %pip install skmultilearn"
   ]
  },
  {
   "cell_type": "code",
   "execution_count": 21,
   "metadata": {},
   "outputs": [],
   "source": [
    "from sklearn.model_selection import train_test_split\n",
    "from skmultilearn.model_selection import iterative_train_test_split\n",
    "# we did not use stratifty due to multiclass complications\n",
    "X_train, X_test, y_train, y_test = iterative_train_test_split(padded_docs, transfomed_labels, test_size=0.2)"
   ]
  },
  {
   "cell_type": "markdown",
   "metadata": {},
   "source": [
    "3. Bert\n",
    "- Modified after: https://colab.research.google.com/github/CyberZHG/keras-bert/blob/master/demo/tune/keras_bert_classification_tpu.ipynb"
   ]
  },
  {
   "cell_type": "code",
   "execution_count": 22,
   "metadata": {},
   "outputs": [],
   "source": [
    "BATCH_SIZE = 128\n",
    "EPOCHS = 5\n",
    "LR = 1e-4"
   ]
  },
  {
   "cell_type": "code",
   "execution_count": 23,
   "metadata": {},
   "outputs": [
    {
     "name": "stdout",
     "output_type": "stream",
     "text": [
      "Note: you may need to restart the kernel to use updated packages.\n"
     ]
    }
   ],
   "source": [
    "%pip install -q keras-bert keras-rectified-adam"
   ]
  },
  {
   "cell_type": "code",
   "execution_count": 24,
   "metadata": {},
   "outputs": [],
   "source": [
    "import os\n",
    "\n",
    "pretrained_path = 'uncased_L-12_H-768_A-12'\n",
    "config_path = os.path.join(pretrained_path, 'bert_config.json')\n",
    "checkpoint_path = os.path.join(pretrained_path, 'bert_model.ckpt')\n",
    "vocab_path = os.path.join(pretrained_path, 'vocab.txt')\n",
    "\n",
    "# TF_KERAS must be added to environment variables in order to use TPU\n",
    "os.environ['TF_KERAS'] = '1'"
   ]
  },
  {
   "cell_type": "code",
   "execution_count": 25,
   "metadata": {},
   "outputs": [],
   "source": [
    "import codecs\n",
    "from keras_bert import load_trained_model_from_checkpoint\n",
    "\n",
    "token_dict = {}\n",
    "with codecs.open(vocab_path, 'r', 'utf8') as reader:\n",
    "    for line in reader:\n",
    "        token = line.strip()\n",
    "        token_dict[token] = len(token_dict)\n",
    "\n",
    "\n",
    "model = load_trained_model_from_checkpoint(\n",
    "    config_path,\n",
    "    checkpoint_path,\n",
    "    training=True,\n",
    "    trainable=True,\n",
    "    seq_len=MAX_SEQUENCE_LENGTH,\n",
    ")"
   ]
  },
  {
   "cell_type": "code",
   "execution_count": 30,
   "metadata": {},
   "outputs": [
    {
     "ename": "TypeError",
     "evalue": "Cannot convert a symbolic Keras input/output to a numpy array. This error may indicate that you're trying to pass a symbolic value to a NumPy call, which is not supported. Or, you may be trying to pass Keras symbolic inputs/outputs to a TF API that does not register dispatching, preventing Keras from automatically converting the API call to a lambda layer in the Functional Model.",
     "output_type": "error",
     "traceback": [
      "\u001b[1;31m---------------------------------------------------------------------------\u001b[0m",
      "\u001b[1;31mTypeError\u001b[0m                                 Traceback (most recent call last)",
      "\u001b[1;32mc:\\Users\\Robert\\Desktop\\DSO560\\final_project\\bert.ipynb Cell 28'\u001b[0m in \u001b[0;36m<cell line: 8>\u001b[1;34m()\u001b[0m\n\u001b[0;32m      <a href='vscode-notebook-cell:/c%3A/Users/Robert/Desktop/DSO560/final_project/bert.ipynb#ch0000027?line=5'>6</a>\u001b[0m inputs \u001b[39m=\u001b[39m model\u001b[39m.\u001b[39minputs[:\u001b[39m2\u001b[39m]\n\u001b[0;32m      <a href='vscode-notebook-cell:/c%3A/Users/Robert/Desktop/DSO560/final_project/bert.ipynb#ch0000027?line=6'>7</a>\u001b[0m dense \u001b[39m=\u001b[39m model\u001b[39m.\u001b[39mget_layer(\u001b[39m'\u001b[39m\u001b[39mNSP-Dense\u001b[39m\u001b[39m'\u001b[39m)\u001b[39m.\u001b[39moutput\n\u001b[1;32m----> <a href='vscode-notebook-cell:/c%3A/Users/Robert/Desktop/DSO560/final_project/bert.ipynb#ch0000027?line=7'>8</a>\u001b[0m outputs \u001b[39m=\u001b[39m keras\u001b[39m.\u001b[39;49mlayers\u001b[39m.\u001b[39;49mDense(units\u001b[39m=\u001b[39;49m\u001b[39m2\u001b[39;49m, activation\u001b[39m=\u001b[39;49m\u001b[39m'\u001b[39;49m\u001b[39msoftmax\u001b[39;49m\u001b[39m'\u001b[39;49m)(dense)\n\u001b[0;32m     <a href='vscode-notebook-cell:/c%3A/Users/Robert/Desktop/DSO560/final_project/bert.ipynb#ch0000027?line=9'>10</a>\u001b[0m model \u001b[39m=\u001b[39m keras\u001b[39m.\u001b[39mmodels\u001b[39m.\u001b[39mModel(inputs, outputs)\n\u001b[0;32m     <a href='vscode-notebook-cell:/c%3A/Users/Robert/Desktop/DSO560/final_project/bert.ipynb#ch0000027?line=10'>11</a>\u001b[0m model\u001b[39m.\u001b[39mcompile(loss\u001b[39m=\u001b[39m\u001b[39m\"\u001b[39m\u001b[39mcategorical_crossentropy\u001b[39m\u001b[39m\"\u001b[39m, optimizer\u001b[39m=\u001b[39m \u001b[39m\"\u001b[39m\u001b[39madam\u001b[39m\u001b[39m\"\u001b[39m, metrics\u001b[39m=\u001b[39m[\u001b[39m'\u001b[39m\u001b[39maccuracy\u001b[39m\u001b[39m'\u001b[39m])\n",
      "File \u001b[1;32m~\\AppData\\Roaming\\Python\\Python38\\site-packages\\tensorflow\\python\\keras\\engine\\base_layer_v1.py:829\u001b[0m, in \u001b[0;36mLayer.__call__\u001b[1;34m(self, *args, **kwargs)\u001b[0m\n\u001b[0;32m    <a href='file:///c%3A/Users/Robert/AppData/Roaming/Python/Python38/site-packages/tensorflow/python/keras/engine/base_layer_v1.py?line=825'>826</a>\u001b[0m cast_inputs \u001b[39m=\u001b[39m \u001b[39mself\u001b[39m\u001b[39m.\u001b[39m_maybe_cast_inputs(inputs)\n\u001b[0;32m    <a href='file:///c%3A/Users/Robert/AppData/Roaming/Python/Python38/site-packages/tensorflow/python/keras/engine/base_layer_v1.py?line=826'>827</a>\u001b[0m \u001b[39mwith\u001b[39;00m autocast_variable\u001b[39m.\u001b[39menable_auto_cast_variables(\n\u001b[0;32m    <a href='file:///c%3A/Users/Robert/AppData/Roaming/Python/Python38/site-packages/tensorflow/python/keras/engine/base_layer_v1.py?line=827'>828</a>\u001b[0m     \u001b[39mself\u001b[39m\u001b[39m.\u001b[39m_compute_dtype_object):\n\u001b[1;32m--> <a href='file:///c%3A/Users/Robert/AppData/Roaming/Python/Python38/site-packages/tensorflow/python/keras/engine/base_layer_v1.py?line=828'>829</a>\u001b[0m   outputs \u001b[39m=\u001b[39m \u001b[39mself\u001b[39;49m\u001b[39m.\u001b[39;49mcall(cast_inputs, \u001b[39m*\u001b[39;49margs, \u001b[39m*\u001b[39;49m\u001b[39m*\u001b[39;49mkwargs)\n\u001b[0;32m    <a href='file:///c%3A/Users/Robert/AppData/Roaming/Python/Python38/site-packages/tensorflow/python/keras/engine/base_layer_v1.py?line=829'>830</a>\u001b[0m \u001b[39mself\u001b[39m\u001b[39m.\u001b[39m_handle_activity_regularization(inputs, outputs)\n\u001b[0;32m    <a href='file:///c%3A/Users/Robert/AppData/Roaming/Python/Python38/site-packages/tensorflow/python/keras/engine/base_layer_v1.py?line=830'>831</a>\u001b[0m \u001b[39mself\u001b[39m\u001b[39m.\u001b[39m_set_mask_metadata(inputs, outputs, input_masks)\n",
      "File \u001b[1;32m~\\AppData\\Roaming\\Python\\Python38\\site-packages\\tensorflow\\python\\keras\\layers\\core.py:1239\u001b[0m, in \u001b[0;36mDense.call\u001b[1;34m(self, inputs)\u001b[0m\n\u001b[0;32m   <a href='file:///c%3A/Users/Robert/AppData/Roaming/Python/Python38/site-packages/tensorflow/python/keras/layers/core.py?line=1235'>1236</a>\u001b[0m     outputs \u001b[39m=\u001b[39m embedding_ops\u001b[39m.\u001b[39membedding_lookup_sparse_v2(\n\u001b[0;32m   <a href='file:///c%3A/Users/Robert/AppData/Roaming/Python/Python38/site-packages/tensorflow/python/keras/layers/core.py?line=1236'>1237</a>\u001b[0m         \u001b[39mself\u001b[39m\u001b[39m.\u001b[39mkernel, ids, weights, combiner\u001b[39m=\u001b[39m\u001b[39m'\u001b[39m\u001b[39msum\u001b[39m\u001b[39m'\u001b[39m)\n\u001b[0;32m   <a href='file:///c%3A/Users/Robert/AppData/Roaming/Python/Python38/site-packages/tensorflow/python/keras/layers/core.py?line=1237'>1238</a>\u001b[0m   \u001b[39melse\u001b[39;00m:\n\u001b[1;32m-> <a href='file:///c%3A/Users/Robert/AppData/Roaming/Python/Python38/site-packages/tensorflow/python/keras/layers/core.py?line=1238'>1239</a>\u001b[0m     outputs \u001b[39m=\u001b[39m gen_math_ops\u001b[39m.\u001b[39;49mMatMul(a\u001b[39m=\u001b[39;49minputs, b\u001b[39m=\u001b[39;49m\u001b[39mself\u001b[39;49m\u001b[39m.\u001b[39;49mkernel)\n\u001b[0;32m   <a href='file:///c%3A/Users/Robert/AppData/Roaming/Python/Python38/site-packages/tensorflow/python/keras/layers/core.py?line=1239'>1240</a>\u001b[0m \u001b[39m# Broadcast kernel to inputs.\u001b[39;00m\n\u001b[0;32m   <a href='file:///c%3A/Users/Robert/AppData/Roaming/Python/Python38/site-packages/tensorflow/python/keras/layers/core.py?line=1240'>1241</a>\u001b[0m \u001b[39melse\u001b[39;00m:\n\u001b[0;32m   <a href='file:///c%3A/Users/Robert/AppData/Roaming/Python/Python38/site-packages/tensorflow/python/keras/layers/core.py?line=1241'>1242</a>\u001b[0m   outputs \u001b[39m=\u001b[39m standard_ops\u001b[39m.\u001b[39mtensordot(inputs, \u001b[39mself\u001b[39m\u001b[39m.\u001b[39mkernel, [[rank \u001b[39m-\u001b[39m \u001b[39m1\u001b[39m], [\u001b[39m0\u001b[39m]])\n",
      "File \u001b[1;32m~\\AppData\\Roaming\\Python\\Python38\\site-packages\\tensorflow\\python\\util\\tf_export.py:400\u001b[0m, in \u001b[0;36mkwarg_only.<locals>.wrapper\u001b[1;34m(*args, **kwargs)\u001b[0m\n\u001b[0;32m    <a href='file:///c%3A/Users/Robert/AppData/Roaming/Python/Python38/site-packages/tensorflow/python/util/tf_export.py?line=394'>395</a>\u001b[0m \u001b[39mif\u001b[39;00m args:\n\u001b[0;32m    <a href='file:///c%3A/Users/Robert/AppData/Roaming/Python/Python38/site-packages/tensorflow/python/util/tf_export.py?line=395'>396</a>\u001b[0m   \u001b[39mraise\u001b[39;00m \u001b[39mTypeError\u001b[39;00m(\n\u001b[0;32m    <a href='file:///c%3A/Users/Robert/AppData/Roaming/Python/Python38/site-packages/tensorflow/python/util/tf_export.py?line=396'>397</a>\u001b[0m       \u001b[39m'\u001b[39m\u001b[39m{f}\u001b[39;00m\u001b[39m only takes keyword args (possible keys: \u001b[39m\u001b[39m{kwargs}\u001b[39;00m\u001b[39m). \u001b[39m\u001b[39m'\u001b[39m\n\u001b[0;32m    <a href='file:///c%3A/Users/Robert/AppData/Roaming/Python/Python38/site-packages/tensorflow/python/util/tf_export.py?line=397'>398</a>\u001b[0m       \u001b[39m'\u001b[39m\u001b[39mPlease pass these args as kwargs instead.\u001b[39m\u001b[39m'\u001b[39m\n\u001b[0;32m    <a href='file:///c%3A/Users/Robert/AppData/Roaming/Python/Python38/site-packages/tensorflow/python/util/tf_export.py?line=398'>399</a>\u001b[0m       \u001b[39m.\u001b[39mformat(f\u001b[39m=\u001b[39mf\u001b[39m.\u001b[39m\u001b[39m__name__\u001b[39m, kwargs\u001b[39m=\u001b[39mf_argspec\u001b[39m.\u001b[39margs))\n\u001b[1;32m--> <a href='file:///c%3A/Users/Robert/AppData/Roaming/Python/Python38/site-packages/tensorflow/python/util/tf_export.py?line=399'>400</a>\u001b[0m \u001b[39mreturn\u001b[39;00m f(\u001b[39m*\u001b[39;49m\u001b[39m*\u001b[39;49mkwargs)\n",
      "File \u001b[1;32m~\\AppData\\Roaming\\Python\\Python38\\site-packages\\tensorflow\\python\\ops\\gen_math_ops.py:6033\u001b[0m, in \u001b[0;36mmat_mul\u001b[1;34m(a, b, transpose_a, transpose_b, name)\u001b[0m\n\u001b[0;32m   <a href='file:///c%3A/Users/Robert/AppData/Roaming/Python/Python38/site-packages/tensorflow/python/ops/gen_math_ops.py?line=6030'>6031</a>\u001b[0m   transpose_b \u001b[39m=\u001b[39m \u001b[39mFalse\u001b[39;00m\n\u001b[0;32m   <a href='file:///c%3A/Users/Robert/AppData/Roaming/Python/Python38/site-packages/tensorflow/python/ops/gen_math_ops.py?line=6031'>6032</a>\u001b[0m transpose_b \u001b[39m=\u001b[39m _execute\u001b[39m.\u001b[39mmake_bool(transpose_b, \u001b[39m\"\u001b[39m\u001b[39mtranspose_b\u001b[39m\u001b[39m\"\u001b[39m)\n\u001b[1;32m-> <a href='file:///c%3A/Users/Robert/AppData/Roaming/Python/Python38/site-packages/tensorflow/python/ops/gen_math_ops.py?line=6032'>6033</a>\u001b[0m _, _, _op, _outputs \u001b[39m=\u001b[39m _op_def_library\u001b[39m.\u001b[39;49m_apply_op_helper(\n\u001b[0;32m   <a href='file:///c%3A/Users/Robert/AppData/Roaming/Python/Python38/site-packages/tensorflow/python/ops/gen_math_ops.py?line=6033'>6034</a>\u001b[0m       \u001b[39m\"\u001b[39;49m\u001b[39mMatMul\u001b[39;49m\u001b[39m\"\u001b[39;49m, a\u001b[39m=\u001b[39;49ma, b\u001b[39m=\u001b[39;49mb, transpose_a\u001b[39m=\u001b[39;49mtranspose_a, transpose_b\u001b[39m=\u001b[39;49mtranspose_b,\n\u001b[0;32m   <a href='file:///c%3A/Users/Robert/AppData/Roaming/Python/Python38/site-packages/tensorflow/python/ops/gen_math_ops.py?line=6034'>6035</a>\u001b[0m                 name\u001b[39m=\u001b[39;49mname)\n\u001b[0;32m   <a href='file:///c%3A/Users/Robert/AppData/Roaming/Python/Python38/site-packages/tensorflow/python/ops/gen_math_ops.py?line=6035'>6036</a>\u001b[0m _result \u001b[39m=\u001b[39m _outputs[:]\n\u001b[0;32m   <a href='file:///c%3A/Users/Robert/AppData/Roaming/Python/Python38/site-packages/tensorflow/python/ops/gen_math_ops.py?line=6036'>6037</a>\u001b[0m \u001b[39mif\u001b[39;00m _execute\u001b[39m.\u001b[39mmust_record_gradient():\n",
      "File \u001b[1;32m~\\AppData\\Roaming\\Python\\Python38\\site-packages\\tensorflow\\python\\framework\\op_def_library.py:516\u001b[0m, in \u001b[0;36m_apply_op_helper\u001b[1;34m(op_type_name, name, **keywords)\u001b[0m\n\u001b[0;32m    <a href='file:///c%3A/Users/Robert/AppData/Roaming/Python/Python38/site-packages/tensorflow/python/framework/op_def_library.py?line=513'>514</a>\u001b[0m \u001b[39mexcept\u001b[39;00m \u001b[39mTypeError\u001b[39;00m \u001b[39mas\u001b[39;00m err:\n\u001b[0;32m    <a href='file:///c%3A/Users/Robert/AppData/Roaming/Python/Python38/site-packages/tensorflow/python/framework/op_def_library.py?line=514'>515</a>\u001b[0m   \u001b[39mif\u001b[39;00m dtype \u001b[39mis\u001b[39;00m \u001b[39mNone\u001b[39;00m:\n\u001b[1;32m--> <a href='file:///c%3A/Users/Robert/AppData/Roaming/Python/Python38/site-packages/tensorflow/python/framework/op_def_library.py?line=515'>516</a>\u001b[0m     \u001b[39mraise\u001b[39;00m err\n\u001b[0;32m    <a href='file:///c%3A/Users/Robert/AppData/Roaming/Python/Python38/site-packages/tensorflow/python/framework/op_def_library.py?line=516'>517</a>\u001b[0m   \u001b[39melse\u001b[39;00m:\n\u001b[0;32m    <a href='file:///c%3A/Users/Robert/AppData/Roaming/Python/Python38/site-packages/tensorflow/python/framework/op_def_library.py?line=517'>518</a>\u001b[0m     \u001b[39mraise\u001b[39;00m \u001b[39mTypeError\u001b[39;00m(\n\u001b[0;32m    <a href='file:///c%3A/Users/Robert/AppData/Roaming/Python/Python38/site-packages/tensorflow/python/framework/op_def_library.py?line=518'>519</a>\u001b[0m         \u001b[39mf\u001b[39m\u001b[39m\"\u001b[39m\u001b[39mExpected \u001b[39m\u001b[39m{\u001b[39;00mdtypes\u001b[39m.\u001b[39mas_dtype(dtype)\u001b[39m.\u001b[39mname\u001b[39m}\u001b[39;00m\u001b[39m passed to parameter \u001b[39m\u001b[39m\"\u001b[39m\n\u001b[0;32m    <a href='file:///c%3A/Users/Robert/AppData/Roaming/Python/Python38/site-packages/tensorflow/python/framework/op_def_library.py?line=519'>520</a>\u001b[0m         \u001b[39mf\u001b[39m\u001b[39m\"\u001b[39m\u001b[39m'\u001b[39m\u001b[39m{\u001b[39;00minput_arg\u001b[39m.\u001b[39mname\u001b[39m}\u001b[39;00m\u001b[39m'\u001b[39m\u001b[39m of op \u001b[39m\u001b[39m'\u001b[39m\u001b[39m{\u001b[39;00mop_type_name\u001b[39m}\u001b[39;00m\u001b[39m'\u001b[39m\u001b[39m, got \u001b[39m\u001b[39m\"\u001b[39m\n\u001b[0;32m    <a href='file:///c%3A/Users/Robert/AppData/Roaming/Python/Python38/site-packages/tensorflow/python/framework/op_def_library.py?line=520'>521</a>\u001b[0m         \u001b[39mf\u001b[39m\u001b[39m\"\u001b[39m\u001b[39m{\u001b[39;00m\u001b[39mrepr\u001b[39m(values)\u001b[39m}\u001b[39;00m\u001b[39m of type \u001b[39m\u001b[39m'\u001b[39m\u001b[39m{\u001b[39;00m\u001b[39mtype\u001b[39m(values)\u001b[39m.\u001b[39m\u001b[39m__name__\u001b[39m\u001b[39m}\u001b[39;00m\u001b[39m'\u001b[39m\u001b[39m instead. \u001b[39m\u001b[39m\"\u001b[39m\n\u001b[0;32m    <a href='file:///c%3A/Users/Robert/AppData/Roaming/Python/Python38/site-packages/tensorflow/python/framework/op_def_library.py?line=521'>522</a>\u001b[0m         \u001b[39mf\u001b[39m\u001b[39m\"\u001b[39m\u001b[39mError: \u001b[39m\u001b[39m{\u001b[39;00merr\u001b[39m}\u001b[39;00m\u001b[39m\"\u001b[39m)\n",
      "File \u001b[1;32m~\\AppData\\Roaming\\Python\\Python38\\site-packages\\tensorflow\\python\\framework\\op_def_library.py:508\u001b[0m, in \u001b[0;36m_apply_op_helper\u001b[1;34m(op_type_name, name, **keywords)\u001b[0m\n\u001b[0;32m    <a href='file:///c%3A/Users/Robert/AppData/Roaming/Python/Python38/site-packages/tensorflow/python/framework/op_def_library.py?line=501'>502</a>\u001b[0m       values \u001b[39m=\u001b[39m ops\u001b[39m.\u001b[39mconvert_to_tensor(\n\u001b[0;32m    <a href='file:///c%3A/Users/Robert/AppData/Roaming/Python/Python38/site-packages/tensorflow/python/framework/op_def_library.py?line=502'>503</a>\u001b[0m           values,\n\u001b[0;32m    <a href='file:///c%3A/Users/Robert/AppData/Roaming/Python/Python38/site-packages/tensorflow/python/framework/op_def_library.py?line=503'>504</a>\u001b[0m           name\u001b[39m=\u001b[39minput_arg\u001b[39m.\u001b[39mname,\n\u001b[0;32m    <a href='file:///c%3A/Users/Robert/AppData/Roaming/Python/Python38/site-packages/tensorflow/python/framework/op_def_library.py?line=504'>505</a>\u001b[0m           as_ref\u001b[39m=\u001b[39minput_arg\u001b[39m.\u001b[39mis_ref,\n\u001b[0;32m    <a href='file:///c%3A/Users/Robert/AppData/Roaming/Python/Python38/site-packages/tensorflow/python/framework/op_def_library.py?line=505'>506</a>\u001b[0m           preferred_dtype\u001b[39m=\u001b[39mdefault_dtype)\n\u001b[0;32m    <a href='file:///c%3A/Users/Robert/AppData/Roaming/Python/Python38/site-packages/tensorflow/python/framework/op_def_library.py?line=506'>507</a>\u001b[0m   \u001b[39melse\u001b[39;00m:\n\u001b[1;32m--> <a href='file:///c%3A/Users/Robert/AppData/Roaming/Python/Python38/site-packages/tensorflow/python/framework/op_def_library.py?line=507'>508</a>\u001b[0m     values \u001b[39m=\u001b[39m ops\u001b[39m.\u001b[39;49mconvert_to_tensor(\n\u001b[0;32m    <a href='file:///c%3A/Users/Robert/AppData/Roaming/Python/Python38/site-packages/tensorflow/python/framework/op_def_library.py?line=508'>509</a>\u001b[0m         values,\n\u001b[0;32m    <a href='file:///c%3A/Users/Robert/AppData/Roaming/Python/Python38/site-packages/tensorflow/python/framework/op_def_library.py?line=509'>510</a>\u001b[0m         name\u001b[39m=\u001b[39;49minput_arg\u001b[39m.\u001b[39;49mname,\n\u001b[0;32m    <a href='file:///c%3A/Users/Robert/AppData/Roaming/Python/Python38/site-packages/tensorflow/python/framework/op_def_library.py?line=510'>511</a>\u001b[0m         dtype\u001b[39m=\u001b[39;49mdtype,\n\u001b[0;32m    <a href='file:///c%3A/Users/Robert/AppData/Roaming/Python/Python38/site-packages/tensorflow/python/framework/op_def_library.py?line=511'>512</a>\u001b[0m         as_ref\u001b[39m=\u001b[39;49minput_arg\u001b[39m.\u001b[39;49mis_ref,\n\u001b[0;32m    <a href='file:///c%3A/Users/Robert/AppData/Roaming/Python/Python38/site-packages/tensorflow/python/framework/op_def_library.py?line=512'>513</a>\u001b[0m         preferred_dtype\u001b[39m=\u001b[39;49mdefault_dtype)\n\u001b[0;32m    <a href='file:///c%3A/Users/Robert/AppData/Roaming/Python/Python38/site-packages/tensorflow/python/framework/op_def_library.py?line=513'>514</a>\u001b[0m \u001b[39mexcept\u001b[39;00m \u001b[39mTypeError\u001b[39;00m \u001b[39mas\u001b[39;00m err:\n\u001b[0;32m    <a href='file:///c%3A/Users/Robert/AppData/Roaming/Python/Python38/site-packages/tensorflow/python/framework/op_def_library.py?line=514'>515</a>\u001b[0m   \u001b[39mif\u001b[39;00m dtype \u001b[39mis\u001b[39;00m \u001b[39mNone\u001b[39;00m:\n",
      "File \u001b[1;32m~\\AppData\\Roaming\\Python\\Python38\\site-packages\\tensorflow\\python\\profiler\\trace.py:183\u001b[0m, in \u001b[0;36mtrace_wrapper.<locals>.inner_wrapper.<locals>.wrapped\u001b[1;34m(*args, **kwargs)\u001b[0m\n\u001b[0;32m    <a href='file:///c%3A/Users/Robert/AppData/Roaming/Python/Python38/site-packages/tensorflow/python/profiler/trace.py?line=180'>181</a>\u001b[0m   \u001b[39mwith\u001b[39;00m Trace(trace_name, \u001b[39m*\u001b[39m\u001b[39m*\u001b[39mtrace_kwargs):\n\u001b[0;32m    <a href='file:///c%3A/Users/Robert/AppData/Roaming/Python/Python38/site-packages/tensorflow/python/profiler/trace.py?line=181'>182</a>\u001b[0m     \u001b[39mreturn\u001b[39;00m func(\u001b[39m*\u001b[39margs, \u001b[39m*\u001b[39m\u001b[39m*\u001b[39mkwargs)\n\u001b[1;32m--> <a href='file:///c%3A/Users/Robert/AppData/Roaming/Python/Python38/site-packages/tensorflow/python/profiler/trace.py?line=182'>183</a>\u001b[0m \u001b[39mreturn\u001b[39;00m func(\u001b[39m*\u001b[39;49margs, \u001b[39m*\u001b[39;49m\u001b[39m*\u001b[39;49mkwargs)\n",
      "File \u001b[1;32m~\\AppData\\Roaming\\Python\\Python38\\site-packages\\tensorflow\\python\\framework\\ops.py:1695\u001b[0m, in \u001b[0;36mconvert_to_tensor\u001b[1;34m(value, dtype, name, as_ref, preferred_dtype, dtype_hint, ctx, accepted_result_types)\u001b[0m\n\u001b[0;32m   <a href='file:///c%3A/Users/Robert/AppData/Roaming/Python/Python38/site-packages/tensorflow/python/framework/ops.py?line=1689'>1690</a>\u001b[0m       \u001b[39mraise\u001b[39;00m \u001b[39mTypeError\u001b[39;00m(\u001b[39m\"\u001b[39m\u001b[39mconvert_to_tensor did not convert to \u001b[39m\u001b[39m\"\u001b[39m\n\u001b[0;32m   <a href='file:///c%3A/Users/Robert/AppData/Roaming/Python/Python38/site-packages/tensorflow/python/framework/ops.py?line=1690'>1691</a>\u001b[0m                       \u001b[39m\"\u001b[39m\u001b[39mthe preferred dtype: \u001b[39m\u001b[39m%s\u001b[39;00m\u001b[39m vs \u001b[39m\u001b[39m%s\u001b[39;00m\u001b[39m \u001b[39m\u001b[39m\"\u001b[39m \u001b[39m%\u001b[39m\n\u001b[0;32m   <a href='file:///c%3A/Users/Robert/AppData/Roaming/Python/Python38/site-packages/tensorflow/python/framework/ops.py?line=1691'>1692</a>\u001b[0m                       (ret\u001b[39m.\u001b[39mdtype\u001b[39m.\u001b[39mbase_dtype, preferred_dtype\u001b[39m.\u001b[39mbase_dtype))\n\u001b[0;32m   <a href='file:///c%3A/Users/Robert/AppData/Roaming/Python/Python38/site-packages/tensorflow/python/framework/ops.py?line=1693'>1694</a>\u001b[0m \u001b[39mif\u001b[39;00m ret \u001b[39mis\u001b[39;00m \u001b[39mNone\u001b[39;00m:\n\u001b[1;32m-> <a href='file:///c%3A/Users/Robert/AppData/Roaming/Python/Python38/site-packages/tensorflow/python/framework/ops.py?line=1694'>1695</a>\u001b[0m   ret \u001b[39m=\u001b[39m conversion_func(value, dtype\u001b[39m=\u001b[39;49mdtype, name\u001b[39m=\u001b[39;49mname, as_ref\u001b[39m=\u001b[39;49mas_ref)\n\u001b[0;32m   <a href='file:///c%3A/Users/Robert/AppData/Roaming/Python/Python38/site-packages/tensorflow/python/framework/ops.py?line=1696'>1697</a>\u001b[0m \u001b[39mif\u001b[39;00m ret \u001b[39mis\u001b[39;00m \u001b[39mNotImplemented\u001b[39m:\n\u001b[0;32m   <a href='file:///c%3A/Users/Robert/AppData/Roaming/Python/Python38/site-packages/tensorflow/python/framework/ops.py?line=1697'>1698</a>\u001b[0m   \u001b[39mcontinue\u001b[39;00m\n",
      "File \u001b[1;32m~\\AppData\\Roaming\\Python\\Python38\\site-packages\\tensorflow\\python\\framework\\constant_op.py:343\u001b[0m, in \u001b[0;36m_constant_tensor_conversion_function\u001b[1;34m(v, dtype, name, as_ref)\u001b[0m\n\u001b[0;32m    <a href='file:///c%3A/Users/Robert/AppData/Roaming/Python/Python38/site-packages/tensorflow/python/framework/constant_op.py?line=339'>340</a>\u001b[0m \u001b[39mdef\u001b[39;00m \u001b[39m_constant_tensor_conversion_function\u001b[39m(v, dtype\u001b[39m=\u001b[39m\u001b[39mNone\u001b[39;00m, name\u001b[39m=\u001b[39m\u001b[39mNone\u001b[39;00m,\n\u001b[0;32m    <a href='file:///c%3A/Users/Robert/AppData/Roaming/Python/Python38/site-packages/tensorflow/python/framework/constant_op.py?line=340'>341</a>\u001b[0m                                          as_ref\u001b[39m=\u001b[39m\u001b[39mFalse\u001b[39;00m):\n\u001b[0;32m    <a href='file:///c%3A/Users/Robert/AppData/Roaming/Python/Python38/site-packages/tensorflow/python/framework/constant_op.py?line=341'>342</a>\u001b[0m   _ \u001b[39m=\u001b[39m as_ref\n\u001b[1;32m--> <a href='file:///c%3A/Users/Robert/AppData/Roaming/Python/Python38/site-packages/tensorflow/python/framework/constant_op.py?line=342'>343</a>\u001b[0m   \u001b[39mreturn\u001b[39;00m constant(v, dtype\u001b[39m=\u001b[39;49mdtype, name\u001b[39m=\u001b[39;49mname)\n",
      "File \u001b[1;32m~\\AppData\\Roaming\\Python\\Python38\\site-packages\\tensorflow\\python\\framework\\constant_op.py:267\u001b[0m, in \u001b[0;36mconstant\u001b[1;34m(value, dtype, shape, name)\u001b[0m\n\u001b[0;32m    <a href='file:///c%3A/Users/Robert/AppData/Roaming/Python/Python38/site-packages/tensorflow/python/framework/constant_op.py?line=169'>170</a>\u001b[0m \u001b[39m@tf_export\u001b[39m(\u001b[39m\"\u001b[39m\u001b[39mconstant\u001b[39m\u001b[39m\"\u001b[39m, v1\u001b[39m=\u001b[39m[])\n\u001b[0;32m    <a href='file:///c%3A/Users/Robert/AppData/Roaming/Python/Python38/site-packages/tensorflow/python/framework/constant_op.py?line=170'>171</a>\u001b[0m \u001b[39mdef\u001b[39;00m \u001b[39mconstant\u001b[39m(value, dtype\u001b[39m=\u001b[39m\u001b[39mNone\u001b[39;00m, shape\u001b[39m=\u001b[39m\u001b[39mNone\u001b[39;00m, name\u001b[39m=\u001b[39m\u001b[39m\"\u001b[39m\u001b[39mConst\u001b[39m\u001b[39m\"\u001b[39m):\n\u001b[0;32m    <a href='file:///c%3A/Users/Robert/AppData/Roaming/Python/Python38/site-packages/tensorflow/python/framework/constant_op.py?line=171'>172</a>\u001b[0m   \u001b[39m\"\"\"Creates a constant tensor from a tensor-like object.\u001b[39;00m\n\u001b[0;32m    <a href='file:///c%3A/Users/Robert/AppData/Roaming/Python/Python38/site-packages/tensorflow/python/framework/constant_op.py?line=172'>173</a>\u001b[0m \n\u001b[0;32m    <a href='file:///c%3A/Users/Robert/AppData/Roaming/Python/Python38/site-packages/tensorflow/python/framework/constant_op.py?line=173'>174</a>\u001b[0m \u001b[39m  Note: All eager `tf.Tensor` values are immutable (in contrast to\u001b[39;00m\n\u001b[1;32m   (...)\u001b[0m\n\u001b[0;32m    <a href='file:///c%3A/Users/Robert/AppData/Roaming/Python/Python38/site-packages/tensorflow/python/framework/constant_op.py?line=264'>265</a>\u001b[0m \u001b[39m    ValueError: if called on a symbolic tensor.\u001b[39;00m\n\u001b[0;32m    <a href='file:///c%3A/Users/Robert/AppData/Roaming/Python/Python38/site-packages/tensorflow/python/framework/constant_op.py?line=265'>266</a>\u001b[0m \u001b[39m  \"\"\"\u001b[39;00m\n\u001b[1;32m--> <a href='file:///c%3A/Users/Robert/AppData/Roaming/Python/Python38/site-packages/tensorflow/python/framework/constant_op.py?line=266'>267</a>\u001b[0m   \u001b[39mreturn\u001b[39;00m _constant_impl(value, dtype, shape, name, verify_shape\u001b[39m=\u001b[39;49m\u001b[39mFalse\u001b[39;49;00m,\n\u001b[0;32m    <a href='file:///c%3A/Users/Robert/AppData/Roaming/Python/Python38/site-packages/tensorflow/python/framework/constant_op.py?line=267'>268</a>\u001b[0m                         allow_broadcast\u001b[39m=\u001b[39;49m\u001b[39mTrue\u001b[39;49;00m)\n",
      "File \u001b[1;32m~\\AppData\\Roaming\\Python\\Python38\\site-packages\\tensorflow\\python\\framework\\constant_op.py:284\u001b[0m, in \u001b[0;36m_constant_impl\u001b[1;34m(value, dtype, shape, name, verify_shape, allow_broadcast)\u001b[0m\n\u001b[0;32m    <a href='file:///c%3A/Users/Robert/AppData/Roaming/Python/Python38/site-packages/tensorflow/python/framework/constant_op.py?line=280'>281</a>\u001b[0m g \u001b[39m=\u001b[39m ops\u001b[39m.\u001b[39mget_default_graph()\n\u001b[0;32m    <a href='file:///c%3A/Users/Robert/AppData/Roaming/Python/Python38/site-packages/tensorflow/python/framework/constant_op.py?line=281'>282</a>\u001b[0m tensor_value \u001b[39m=\u001b[39m attr_value_pb2\u001b[39m.\u001b[39mAttrValue()\n\u001b[0;32m    <a href='file:///c%3A/Users/Robert/AppData/Roaming/Python/Python38/site-packages/tensorflow/python/framework/constant_op.py?line=282'>283</a>\u001b[0m tensor_value\u001b[39m.\u001b[39mtensor\u001b[39m.\u001b[39mCopyFrom(\n\u001b[1;32m--> <a href='file:///c%3A/Users/Robert/AppData/Roaming/Python/Python38/site-packages/tensorflow/python/framework/constant_op.py?line=283'>284</a>\u001b[0m     tensor_util\u001b[39m.\u001b[39;49mmake_tensor_proto(\n\u001b[0;32m    <a href='file:///c%3A/Users/Robert/AppData/Roaming/Python/Python38/site-packages/tensorflow/python/framework/constant_op.py?line=284'>285</a>\u001b[0m         value, dtype\u001b[39m=\u001b[39;49mdtype, shape\u001b[39m=\u001b[39;49mshape, verify_shape\u001b[39m=\u001b[39;49mverify_shape,\n\u001b[0;32m    <a href='file:///c%3A/Users/Robert/AppData/Roaming/Python/Python38/site-packages/tensorflow/python/framework/constant_op.py?line=285'>286</a>\u001b[0m         allow_broadcast\u001b[39m=\u001b[39;49mallow_broadcast))\n\u001b[0;32m    <a href='file:///c%3A/Users/Robert/AppData/Roaming/Python/Python38/site-packages/tensorflow/python/framework/constant_op.py?line=286'>287</a>\u001b[0m dtype_value \u001b[39m=\u001b[39m attr_value_pb2\u001b[39m.\u001b[39mAttrValue(\u001b[39mtype\u001b[39m\u001b[39m=\u001b[39mtensor_value\u001b[39m.\u001b[39mtensor\u001b[39m.\u001b[39mdtype)\n\u001b[0;32m    <a href='file:///c%3A/Users/Robert/AppData/Roaming/Python/Python38/site-packages/tensorflow/python/framework/constant_op.py?line=287'>288</a>\u001b[0m attrs \u001b[39m=\u001b[39m {\u001b[39m\"\u001b[39m\u001b[39mvalue\u001b[39m\u001b[39m\"\u001b[39m: tensor_value, \u001b[39m\"\u001b[39m\u001b[39mdtype\u001b[39m\u001b[39m\"\u001b[39m: dtype_value}\n",
      "File \u001b[1;32m~\\AppData\\Roaming\\Python\\Python38\\site-packages\\tensorflow\\python\\framework\\tensor_util.py:431\u001b[0m, in \u001b[0;36mmake_tensor_proto\u001b[1;34m(values, dtype, shape, verify_shape, allow_broadcast)\u001b[0m\n\u001b[0;32m    <a href='file:///c%3A/Users/Robert/AppData/Roaming/Python/Python38/site-packages/tensorflow/python/framework/tensor_util.py?line=423'>424</a>\u001b[0m is_quantized \u001b[39m=\u001b[39m (\n\u001b[0;32m    <a href='file:///c%3A/Users/Robert/AppData/Roaming/Python/Python38/site-packages/tensorflow/python/framework/tensor_util.py?line=424'>425</a>\u001b[0m     dtype \u001b[39min\u001b[39;00m [\n\u001b[0;32m    <a href='file:///c%3A/Users/Robert/AppData/Roaming/Python/Python38/site-packages/tensorflow/python/framework/tensor_util.py?line=425'>426</a>\u001b[0m         dtypes\u001b[39m.\u001b[39mqint8, dtypes\u001b[39m.\u001b[39mquint8, dtypes\u001b[39m.\u001b[39mqint16, dtypes\u001b[39m.\u001b[39mquint16,\n\u001b[0;32m    <a href='file:///c%3A/Users/Robert/AppData/Roaming/Python/Python38/site-packages/tensorflow/python/framework/tensor_util.py?line=426'>427</a>\u001b[0m         dtypes\u001b[39m.\u001b[39mqint32\n\u001b[0;32m    <a href='file:///c%3A/Users/Robert/AppData/Roaming/Python/Python38/site-packages/tensorflow/python/framework/tensor_util.py?line=427'>428</a>\u001b[0m     ])\n\u001b[0;32m    <a href='file:///c%3A/Users/Robert/AppData/Roaming/Python/Python38/site-packages/tensorflow/python/framework/tensor_util.py?line=429'>430</a>\u001b[0m \u001b[39mif\u001b[39;00m _is_array_like(values):\n\u001b[1;32m--> <a href='file:///c%3A/Users/Robert/AppData/Roaming/Python/Python38/site-packages/tensorflow/python/framework/tensor_util.py?line=430'>431</a>\u001b[0m   values \u001b[39m=\u001b[39m np\u001b[39m.\u001b[39;49masarray(values)\n\u001b[0;32m    <a href='file:///c%3A/Users/Robert/AppData/Roaming/Python/Python38/site-packages/tensorflow/python/framework/tensor_util.py?line=432'>433</a>\u001b[0m \u001b[39m# We first convert value to a numpy array or scalar.\u001b[39;00m\n\u001b[0;32m    <a href='file:///c%3A/Users/Robert/AppData/Roaming/Python/Python38/site-packages/tensorflow/python/framework/tensor_util.py?line=433'>434</a>\u001b[0m \u001b[39mif\u001b[39;00m \u001b[39misinstance\u001b[39m(values, (np\u001b[39m.\u001b[39mndarray, np\u001b[39m.\u001b[39mgeneric)):\n",
      "File \u001b[1;32m~\\.conda\\envs\\tensorflow-gpu\\lib\\site-packages\\keras\\engine\\keras_tensor.py:244\u001b[0m, in \u001b[0;36mKerasTensor.__array__\u001b[1;34m(self)\u001b[0m\n\u001b[0;32m    <a href='file:///c%3A/Users/Robert/.conda/envs/tensorflow-gpu/lib/site-packages/keras/engine/keras_tensor.py?line=242'>243</a>\u001b[0m \u001b[39mdef\u001b[39;00m \u001b[39m__array__\u001b[39m(\u001b[39mself\u001b[39m):\n\u001b[1;32m--> <a href='file:///c%3A/Users/Robert/.conda/envs/tensorflow-gpu/lib/site-packages/keras/engine/keras_tensor.py?line=243'>244</a>\u001b[0m   \u001b[39mraise\u001b[39;00m \u001b[39mTypeError\u001b[39;00m(\n\u001b[0;32m    <a href='file:///c%3A/Users/Robert/.conda/envs/tensorflow-gpu/lib/site-packages/keras/engine/keras_tensor.py?line=244'>245</a>\u001b[0m       \u001b[39m'\u001b[39m\u001b[39mCannot convert a symbolic Keras input/output to a numpy array. \u001b[39m\u001b[39m'\u001b[39m\n\u001b[0;32m    <a href='file:///c%3A/Users/Robert/.conda/envs/tensorflow-gpu/lib/site-packages/keras/engine/keras_tensor.py?line=245'>246</a>\u001b[0m       \u001b[39m'\u001b[39m\u001b[39mThis error may indicate that you\u001b[39m\u001b[39m\\'\u001b[39;00m\u001b[39mre trying to pass a symbolic value \u001b[39m\u001b[39m'\u001b[39m\n\u001b[0;32m    <a href='file:///c%3A/Users/Robert/.conda/envs/tensorflow-gpu/lib/site-packages/keras/engine/keras_tensor.py?line=246'>247</a>\u001b[0m       \u001b[39m'\u001b[39m\u001b[39mto a NumPy call, which is not supported. Or, \u001b[39m\u001b[39m'\u001b[39m\n\u001b[0;32m    <a href='file:///c%3A/Users/Robert/.conda/envs/tensorflow-gpu/lib/site-packages/keras/engine/keras_tensor.py?line=247'>248</a>\u001b[0m       \u001b[39m'\u001b[39m\u001b[39myou may be trying to pass Keras symbolic inputs/outputs \u001b[39m\u001b[39m'\u001b[39m\n\u001b[0;32m    <a href='file:///c%3A/Users/Robert/.conda/envs/tensorflow-gpu/lib/site-packages/keras/engine/keras_tensor.py?line=248'>249</a>\u001b[0m       \u001b[39m'\u001b[39m\u001b[39mto a TF API that does not register dispatching, \u001b[39m\u001b[39m'\u001b[39m\n\u001b[0;32m    <a href='file:///c%3A/Users/Robert/.conda/envs/tensorflow-gpu/lib/site-packages/keras/engine/keras_tensor.py?line=249'>250</a>\u001b[0m       \u001b[39m'\u001b[39m\u001b[39mpreventing Keras from automatically \u001b[39m\u001b[39m'\u001b[39m\n\u001b[0;32m    <a href='file:///c%3A/Users/Robert/.conda/envs/tensorflow-gpu/lib/site-packages/keras/engine/keras_tensor.py?line=250'>251</a>\u001b[0m       \u001b[39m'\u001b[39m\u001b[39mconverting the API call to a lambda layer \u001b[39m\u001b[39m'\u001b[39m\n\u001b[0;32m    <a href='file:///c%3A/Users/Robert/.conda/envs/tensorflow-gpu/lib/site-packages/keras/engine/keras_tensor.py?line=251'>252</a>\u001b[0m       \u001b[39m'\u001b[39m\u001b[39min the Functional Model.\u001b[39m\u001b[39m'\u001b[39m)\n",
      "\u001b[1;31mTypeError\u001b[0m: Cannot convert a symbolic Keras input/output to a numpy array. This error may indicate that you're trying to pass a symbolic value to a NumPy call, which is not supported. Or, you may be trying to pass Keras symbolic inputs/outputs to a TF API that does not register dispatching, preventing Keras from automatically converting the API call to a lambda layer in the Functional Model."
     ]
    }
   ],
   "source": [
    "from tensorflow.python import keras\n",
    "# from keras_radam import RAdam\n",
    "from tensorflow.keras.optimizers import Adam\n",
    "\n",
    "\n",
    "inputs = model.inputs[:2]\n",
    "dense = model.get_layer('NSP-Dense').output\n",
    "outputs = keras.layers.Dense(units=2, activation='softmax')(dense)\n",
    "\n",
    "model = keras.models.Model(inputs, outputs)\n",
    "model.compile(loss=\"categorical_crossentropy\", optimizer= \"adam\", metrics=['accuracy'])"
   ]
  },
  {
   "cell_type": "code",
   "execution_count": null,
   "metadata": {},
   "outputs": [],
   "source": [
    "import tensorflow as tf\n",
    "import tensorflow.keras.backend as K\n",
    "\n",
    "sess = K.get_session()\n",
    "uninitialized_variables = set([i.decode('ascii') for i in sess.run(tf.report_uninitialized_variables())])\n",
    "init_op = tf.variables_initializer(\n",
    "    [v for v in tf.global_variables() if v.name.split(':')[0] in uninitialized_variables]\n",
    ")\n",
    "sess.run(init_op)"
   ]
  },
  {
   "cell_type": "code",
   "execution_count": null,
   "metadata": {},
   "outputs": [],
   "source": [
    "model.fit(\n",
    "    X_train,\n",
    "    train_y,\n",
    "    epochs=EPOCHS,\n",
    "    batch_size=BATCH_SIZE,\n",
    ")"
   ]
  }
 ],
 "metadata": {
  "interpreter": {
   "hash": "d5ae3e1a98d28758001ca2781ae1915fa5475324b81f15edd469f5bda7352440"
  },
  "kernelspec": {
   "display_name": "Python 3.8.8 64-bit",
   "language": "python",
   "name": "python3"
  },
  "language_info": {
   "codemirror_mode": {
    "name": "ipython",
    "version": 3
   },
   "file_extension": ".py",
   "mimetype": "text/x-python",
   "name": "python",
   "nbconvert_exporter": "python",
   "pygments_lexer": "ipython3",
   "version": "3.8.8"
  },
  "orig_nbformat": 4
 },
 "nbformat": 4,
 "nbformat_minor": 2
}
