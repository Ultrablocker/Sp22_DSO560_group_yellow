{
 "cells": [
  {
   "cell_type": "markdown",
   "metadata": {},
   "source": [
    "# DSO 560 Natural Language Processing Final Project\n",
    "\n",
    "### Team members: Tanner Curley, Shao Xuan Chew, Robert Zhu\n",
    "\n",
    "General Credits:\n",
    "- Tanner contributed signficantly on ideas, slides, and visualizations\n",
    "- Xuan contributed primarily on preprocessing and cleaning of the data along with code quality\n",
    "- Robert focused on model building and tuning them to achieve a satisfactory performance\n",
    "- Overall, everyone contributed and validated each others work throughout the project\n",
    "- Specific code blocks from online soruces have been cited accordingly\n"
   ]
  },
  {
   "cell_type": "code",
   "execution_count": 1,
   "metadata": {},
   "outputs": [],
   "source": [
    "# !python -m spacy download en_core_web_md\n",
    "# %pip install -U textblob\n",
    "# !python -m textblob.download_corpora"
   ]
  },
  {
   "cell_type": "markdown",
   "metadata": {},
   "source": [
    "## Prep : Configurations\n",
    "\n",
    "Adjust these parameters if needed before running."
   ]
  },
  {
   "cell_type": "code",
   "execution_count": 2,
   "metadata": {},
   "outputs": [],
   "source": [
    "# perform lemmatization (not recommended when using any pretrained embedding)\n",
    "LEMMA = False\n",
    "\n",
    "# size of the vocab for\n",
    "VOCAB_SIZE = 20000\n",
    "\n",
    "# for self attention\n",
    "DATA_POINTS = 10\n",
    "DIMENSIONS = 240\n",
    "SEQUENCE_LENGTH = 4\n",
    "\n",
    "# Whether to use GPU\n",
    "USE_GPU = 1"
   ]
  },
  {
   "cell_type": "code",
   "execution_count": 3,
   "metadata": {},
   "outputs": [
    {
     "name": "stdout",
     "output_type": "stream",
     "text": [
      "[name: \"/device:CPU:0\"\n",
      "device_type: \"CPU\"\n",
      "memory_limit: 268435456\n",
      "locality {\n",
      "}\n",
      "incarnation: 4167609699688724646\n",
      "xla_global_id: -1\n",
      ", name: \"/device:GPU:0\"\n",
      "device_type: \"GPU\"\n",
      "memory_limit: 7806648320\n",
      "locality {\n",
      "  bus_id: 1\n",
      "  links {\n",
      "  }\n",
      "}\n",
      "incarnation: 6981054749927275659\n",
      "physical_device_desc: \"device: 0, name: NVIDIA GeForce RTX 3080, pci bus id: 0000:07:00.0, compute capability: 8.6\"\n",
      "xla_global_id: 416903419\n",
      "]\n"
     ]
    }
   ],
   "source": [
    "# Just to check device data\n",
    "from tensorflow.python.client import device_lib\n",
    "print(device_lib.list_local_devices())"
   ]
  },
  {
   "cell_type": "markdown",
   "metadata": {},
   "source": [
    "## Prep : Imports"
   ]
  },
  {
   "cell_type": "code",
   "execution_count": 2,
   "metadata": {},
   "outputs": [],
   "source": [
    "# Import Packages\n",
    "import pandas as pd\n",
    "import numpy as np \n",
    "\n",
    "from numpy import array, argmax, asarray, zeros\n",
    "from random import randint\n",
    "\n",
    "import re\n",
    "import spacy\n",
    "import nltk\n",
    "from nltk.corpus import stopwords\n",
    "from nltk.stem import WordNetLemmatizer\n",
    "from nltk.corpus import wordnet\n",
    "from textacy import preprocessing\n",
    "nlp = spacy.load('en_core_web_md')\n",
    "\n",
    "from sklearn.preprocessing import LabelBinarizer\n",
    "from sklearn.feature_extraction.text import CountVectorizer\n",
    "from sklearn.feature_extraction.text import TfidfVectorizer\n",
    "from sklearn.model_selection import train_test_split\n",
    "from sklearn.decomposition import NMF\n",
    "\n",
    "from skmultilearn.model_selection import iterative_train_test_split\n",
    "\n",
    "from textblob import Word\n",
    "from textblob import TextBlob\n",
    "\n",
    "import tensorflow as tf\n",
    "from tensorflow.keras.optimizers import Adam\n",
    "from tensorflow.keras.layers import SpatialDropout1D\n",
    "from tensorflow.keras.layers import Bidirectional\n",
    "from tensorflow.keras.layers import Dropout\n",
    "from tensorflow.compat.v1.keras.layers import CuDNNLSTM\n",
    "from tensorflow.keras.layers import SimpleRNN\n",
    "from tensorflow.keras.layers import Conv1D, MaxPooling1D, GlobalMaxPooling1D, Concatenate\n",
    "\n",
    "import keras\n",
    "from keras.preprocessing.sequence import pad_sequences\n",
    "from keras.preprocessing.text import Tokenizer\n",
    "from keras.preprocessing.sequence import pad_sequences\n",
    "from keras.layers import Input, Dense, LSTM, Flatten, concatenate, Activation, RepeatVector, Permute\n",
    "from keras.layers import Dense\n",
    "from keras.layers import Embedding\n",
    "from keras.layers import Flatten, Masking\n",
    "from keras.layers.recurrent import SimpleRNN, LSTM\n",
    "from keras import backend as K\n",
    "from keras.models import Model\n",
    "from keras.models import Sequential\n",
    "from keras_self_attention import SeqSelfAttention\n",
    "\n",
    "from keras.utils.vis_utils import plot_model\n",
    "import matplotlib.pyplot as plt \n",
    "from sklearn.metrics import confusion_matrix\n",
    "import seaborn as sns"
   ]
  },
  {
   "cell_type": "code",
   "execution_count": 6,
   "metadata": {},
   "outputs": [
    {
     "data": {
      "text/plain": [
       "[PhysicalDevice(name='/physical_device:GPU:0', device_type='GPU')]"
      ]
     },
     "execution_count": 6,
     "metadata": {},
     "output_type": "execute_result"
    }
   ],
   "source": [
    "print(tf.config.list_physical_devices('GPU'))"
   ]
  },
  {
   "cell_type": "markdown",
   "metadata": {},
   "source": [
    "## Loading Data"
   ]
  },
  {
   "cell_type": "code",
   "execution_count": 7,
   "metadata": {},
   "outputs": [
    {
     "data": {
      "text/html": [
       "<div>\n",
       "<style scoped>\n",
       "    .dataframe tbody tr th:only-of-type {\n",
       "        vertical-align: middle;\n",
       "    }\n",
       "\n",
       "    .dataframe tbody tr th {\n",
       "        vertical-align: top;\n",
       "    }\n",
       "\n",
       "    .dataframe thead th {\n",
       "        text-align: right;\n",
       "    }\n",
       "</style>\n",
       "<table border=\"1\" class=\"dataframe\">\n",
       "  <thead>\n",
       "    <tr style=\"text-align: right;\">\n",
       "      <th></th>\n",
       "      <th>Unnamed: 0</th>\n",
       "      <th>product</th>\n",
       "      <th>narrative</th>\n",
       "    </tr>\n",
       "  </thead>\n",
       "  <tbody>\n",
       "    <tr>\n",
       "      <th>0</th>\n",
       "      <td>0</td>\n",
       "      <td>credit_card</td>\n",
       "      <td>purchase order day shipping amount receive pro...</td>\n",
       "    </tr>\n",
       "    <tr>\n",
       "      <th>1</th>\n",
       "      <td>1</td>\n",
       "      <td>credit_card</td>\n",
       "      <td>forwarded message date tue subject please inve...</td>\n",
       "    </tr>\n",
       "    <tr>\n",
       "      <th>2</th>\n",
       "      <td>2</td>\n",
       "      <td>retail_banking</td>\n",
       "      <td>forwarded message cc sent friday pdt subject f...</td>\n",
       "    </tr>\n",
       "    <tr>\n",
       "      <th>3</th>\n",
       "      <td>3</td>\n",
       "      <td>credit_reporting</td>\n",
       "      <td>payment history missing credit report speciali...</td>\n",
       "    </tr>\n",
       "    <tr>\n",
       "      <th>4</th>\n",
       "      <td>4</td>\n",
       "      <td>credit_reporting</td>\n",
       "      <td>payment history missing credit report made mis...</td>\n",
       "    </tr>\n",
       "  </tbody>\n",
       "</table>\n",
       "</div>"
      ],
      "text/plain": [
       "   Unnamed: 0           product  \\\n",
       "0           0       credit_card   \n",
       "1           1       credit_card   \n",
       "2           2    retail_banking   \n",
       "3           3  credit_reporting   \n",
       "4           4  credit_reporting   \n",
       "\n",
       "                                           narrative  \n",
       "0  purchase order day shipping amount receive pro...  \n",
       "1  forwarded message date tue subject please inve...  \n",
       "2  forwarded message cc sent friday pdt subject f...  \n",
       "3  payment history missing credit report speciali...  \n",
       "4  payment history missing credit report made mis...  "
      ]
     },
     "execution_count": 7,
     "metadata": {},
     "output_type": "execute_result"
    }
   ],
   "source": [
    "# Read and peek at the dataset\n",
    "df = pd.read_csv('complaints_processed.csv')\n",
    "df.head()\n"
   ]
  },
  {
   "cell_type": "code",
   "execution_count": 8,
   "metadata": {},
   "outputs": [],
   "source": [
    "complaint_types = list(df['product'].value_counts().index)"
   ]
  },
  {
   "cell_type": "code",
   "execution_count": 9,
   "metadata": {},
   "outputs": [],
   "source": [
    "NUM_CLASSES = len(complaint_types)"
   ]
  },
  {
   "cell_type": "markdown",
   "metadata": {},
   "source": [
    "## Summary statistics"
   ]
  },
  {
   "cell_type": "code",
   "execution_count": 10,
   "metadata": {},
   "outputs": [
    {
     "data": {
      "text/plain": [
       "(162421, 3)"
      ]
     },
     "execution_count": 10,
     "metadata": {},
     "output_type": "execute_result"
    }
   ],
   "source": [
    "df.shape"
   ]
  },
  {
   "cell_type": "code",
   "execution_count": 11,
   "metadata": {},
   "outputs": [
    {
     "data": {
      "text/plain": [
       "credit_reporting       91179\n",
       "debt_collection        23150\n",
       "mortgages_and_loans    18990\n",
       "credit_card            15566\n",
       "retail_banking         13536\n",
       "Name: product, dtype: int64"
      ]
     },
     "execution_count": 11,
     "metadata": {},
     "output_type": "execute_result"
    }
   ],
   "source": [
    "df['product'].value_counts()"
   ]
  },
  {
   "cell_type": "markdown",
   "metadata": {},
   "source": [
    "#### Note that the dataset is imbalanced"
   ]
  },
  {
   "cell_type": "markdown",
   "metadata": {},
   "source": [
    "## Preprocessing :\n",
    "    \n",
    "1. remove hyphens and accents\n",
    "2. create customized stopwords list and remove stopwords\n",
    "3. regex cleaning\n",
    "<!-- 4. typo correction with textblob -->"
   ]
  },
  {
   "cell_type": "code",
   "execution_count": 12,
   "metadata": {},
   "outputs": [],
   "source": [
    "df['narrative'] = df['narrative'].apply(str)"
   ]
  },
  {
   "cell_type": "code",
   "execution_count": 13,
   "metadata": {},
   "outputs": [],
   "source": [
    "preproc = preprocessing.make_pipeline(\n",
    "    preprocessing.normalize.hyphenated_words,\n",
    "    preprocessing.remove.accents,\n",
    ")"
   ]
  },
  {
   "cell_type": "markdown",
   "metadata": {},
   "source": [
    "### Stopwords"
   ]
  },
  {
   "cell_type": "code",
   "execution_count": 14,
   "metadata": {},
   "outputs": [],
   "source": [
    "set(stopwords.words('english'))\n",
    "# removing some negative words from stopwords list\n",
    "nltk_stopwords = set(stopwords.words('english'))\n",
    "nltk_stopwords.remove('below')\n",
    "nltk_stopwords.remove(\"aren't\")\n",
    "nltk_stopwords.remove('couldn')\n",
    "nltk_stopwords.remove(\"couldn't\")\n",
    "nltk_stopwords.remove(\"didn't\")\n",
    "nltk_stopwords = list(nltk_stopwords)\n",
    "# add some abstract terms\n",
    "nltk_stopwords.append('like')\n",
    "nltk_stopwords.append('please')\n",
    "\n",
    "nltk_stopwords = set(nltk_stopwords)"
   ]
  },
  {
   "cell_type": "markdown",
   "metadata": {},
   "source": [
    "### Additional Cleaning"
   ]
  },
  {
   "cell_type": "code",
   "execution_count": 15,
   "metadata": {},
   "outputs": [
    {
     "name": "stderr",
     "output_type": "stream",
     "text": [
      "C:\\Users\\Robert\\AppData\\Local\\Temp\\ipykernel_6828\\868481445.py:2: FutureWarning: The default value of regex will change from True to False in a future version.\n",
      "  df['narrative'] = df['narrative'].str.replace(r'\\b([a-z]|[A-Z]){15,}\\b', '', case=False)\n"
     ]
    }
   ],
   "source": [
    "# removing all words with more than 15 digits\n",
    "df['narrative'] = df['narrative'].str.replace(r'\\b([a-z]|[A-Z]){15,}\\b', '', case=False)"
   ]
  },
  {
   "cell_type": "code",
   "execution_count": 16,
   "metadata": {},
   "outputs": [
    {
     "name": "stderr",
     "output_type": "stream",
     "text": [
      "C:\\Users\\Robert\\AppData\\Local\\Temp\\ipykernel_6828\\1200782744.py:2: FutureWarning: The default value of regex will change from True to False in a future version.\n",
      "  df['narrative'] = df['narrative'].str.replace(r'(.)\\1{3,}?', '', case=False)\n"
     ]
    }
   ],
   "source": [
    "# removing all characters that appear more than 2 times\n",
    "df['narrative'] = df['narrative'].str.replace(r'(.)\\1{3,}?', '', case=False)\n"
   ]
  },
  {
   "cell_type": "markdown",
   "metadata": {},
   "source": [
    "### Spelling"
   ]
  },
  {
   "cell_type": "code",
   "execution_count": 20,
   "metadata": {},
   "outputs": [],
   "source": [
    "def spelling_correction(sentence: str):\n",
    "    sentence = str(sentence)\n",
    "    to_ret = TextBlob(sentence)\n",
    "    to_ret = str(to_ret.correct())\n",
    "    return to_ret"
   ]
  },
  {
   "cell_type": "code",
   "execution_count": 21,
   "metadata": {},
   "outputs": [],
   "source": [
    "# df['narrative'] = df['narrative'].apply(spelling_correction)"
   ]
  },
  {
   "cell_type": "markdown",
   "metadata": {},
   "source": [
    "### Lemmatizing"
   ]
  },
  {
   "cell_type": "code",
   "execution_count": 22,
   "metadata": {},
   "outputs": [],
   "source": [
    "lemmatizer = WordNetLemmatizer()\n",
    "\n",
    "# function to convert nltk tag to wordnet tag\n",
    "def nltk_tag_to_wordnet_tag(nltk_tag):\n",
    "    if nltk_tag.startswith('J'):\n",
    "        return wordnet.ADJ\n",
    "    elif nltk_tag.startswith('V'):\n",
    "        return wordnet.VERB\n",
    "    elif nltk_tag.startswith('N'):\n",
    "        return wordnet.NOUN\n",
    "    elif nltk_tag.startswith('R'):\n",
    "        return wordnet.ADV\n",
    "    else:          \n",
    "        return None\n",
    "\n",
    "def lemmatize_sentence(sentence):\n",
    "    #tokenize the sentence and find the POS tag for each token\n",
    "    nltk_tagged = nltk.pos_tag(nltk.word_tokenize(str(sentence)))  \n",
    "    #tuple of (token, wordnet_tag)\n",
    "    wordnet_tagged = map(lambda x: (x[0], nltk_tag_to_wordnet_tag(x[1])), nltk_tagged)\n",
    "    lemmatized_sentence = []\n",
    "    for word, tag in wordnet_tagged:\n",
    "        if tag is None:\n",
    "            #if there is no available tag, append the token as is\n",
    "            lemmatized_sentence.append(word)\n",
    "        else:        \n",
    "            #else use the tag to lemmatize the token\n",
    "            lemmatized_sentence.append(lemmatizer.lemmatize(word, tag))\n",
    "    return \" \".join(lemmatized_sentence)"
   ]
  },
  {
   "cell_type": "code",
   "execution_count": 23,
   "metadata": {},
   "outputs": [],
   "source": [
    "if LEMMA:\n",
    "    df['narrative'] = df['narrative'].apply(lemmatize_sentence)"
   ]
  },
  {
   "cell_type": "code",
   "execution_count": 24,
   "metadata": {},
   "outputs": [],
   "source": [
    "labels = df['product']"
   ]
  },
  {
   "cell_type": "markdown",
   "metadata": {},
   "source": [
    "## Model Preparation\n",
    "1. tokenize\n",
    "2. integer encoding\n",
    "3. glove vectors\n",
    "4. embedding matrix\n",
    "    "
   ]
  },
  {
   "cell_type": "code",
   "execution_count": 25,
   "metadata": {},
   "outputs": [],
   "source": [
    "# tokenize text\n",
    "tokenizer = Tokenizer(num_words=5000, oov_token=\"UNKNOWN_TOKEN\")\n",
    "tokenizer.fit_on_texts(df['narrative'])"
   ]
  },
  {
   "cell_type": "code",
   "execution_count": 26,
   "metadata": {},
   "outputs": [],
   "source": [
    "# integer encoding\n",
    "def get_max_token_length_per_doc(docs: List[List[str]])-> int:\n",
    "    return max(list(map(lambda x: len(x.split()), docs)))\n",
    "\n",
    "# get the max length in terms of token length\n",
    "max_length = get_max_token_length_per_doc(df['narrative'])\n",
    "\n",
    "\n",
    "def integer_encode_documents(docs, tokenizer):\n",
    "    return tokenizer.texts_to_sequences(docs)\n",
    "\n",
    "MAX_SEQUENCE_LENGTH = 300\n",
    "# integer encode the documents\n",
    "encoded_docs = integer_encode_documents(df['narrative'], tokenizer)\n",
    "# this is a list of lists, the numbers represent the index position of that word.\n",
    "# for instance, 33 means the 33rd word in the vocabulary\n",
    "padded_docs = pad_sequences(encoded_docs, maxlen=MAX_SEQUENCE_LENGTH, padding='post')"
   ]
  },
  {
   "cell_type": "code",
   "execution_count": 27,
   "metadata": {},
   "outputs": [
    {
     "name": "stdout",
     "output_type": "stream",
     "text": [
      "Loaded 400000 word vectors.\n"
     ]
    }
   ],
   "source": [
    "# glove vectors\n",
    "def load_glove_vectors():\n",
    "    embeddings_index = {}\n",
    "    with open('glove\\glove.6B.100d.txt') as f:\n",
    "        for line in f:\n",
    "            values = line.split()\n",
    "            word = values[0]\n",
    "            coefs = np.asarray(values[1:], dtype='float32')\n",
    "            embeddings_index[word] = coefs\n",
    "    print('Loaded %s word vectors.' % len(embeddings_index))\n",
    "    return embeddings_index\n",
    "\n",
    "\n",
    "embeddings_index = load_glove_vectors()"
   ]
  },
  {
   "cell_type": "code",
   "execution_count": 28,
   "metadata": {},
   "outputs": [],
   "source": [
    "# create a weight matrix for words in training docs\n",
    "embedding_matrix = np.zeros((VOCAB_SIZE, 100))\n",
    "for word, i in tokenizer.word_index.items():\n",
    "    if i >= VOCAB_SIZE:\n",
    "        break\n",
    "    embedding_vector = embeddings_index.get(word)\n",
    "    if embedding_vector is not None: # check that it is an actual word that we have embeddings for\n",
    "        embedding_matrix[i] = embedding_vector"
   ]
  },
  {
   "cell_type": "code",
   "execution_count": 29,
   "metadata": {},
   "outputs": [],
   "source": [
    "encoder = LabelBinarizer()\n",
    "transfomed_labels = encoder.fit_transform(labels)\n",
    "# print(transfomed_labels)"
   ]
  },
  {
   "cell_type": "code",
   "execution_count": 30,
   "metadata": {},
   "outputs": [
    {
     "data": {
      "text/plain": [
       "(162421, 300)"
      ]
     },
     "execution_count": 30,
     "metadata": {},
     "output_type": "execute_result"
    }
   ],
   "source": [
    "padded_docs.shape"
   ]
  },
  {
   "cell_type": "code",
   "execution_count": 31,
   "metadata": {},
   "outputs": [],
   "source": [
    "X_train, y_train, X_test, y_test = iterative_train_test_split(padded_docs, transfomed_labels, test_size=0.2)"
   ]
  },
  {
   "cell_type": "code",
   "execution_count": 32,
   "metadata": {},
   "outputs": [
    {
     "data": {
      "text/plain": [
       "(129937, 300)"
      ]
     },
     "execution_count": 32,
     "metadata": {},
     "output_type": "execute_result"
    }
   ],
   "source": [
    "X_train.shape"
   ]
  },
  {
   "cell_type": "code",
   "execution_count": 33,
   "metadata": {},
   "outputs": [
    {
     "data": {
      "text/plain": [
       "(129937, 5)"
      ]
     },
     "execution_count": 33,
     "metadata": {},
     "output_type": "execute_result"
    }
   ],
   "source": [
    "y_train.shape"
   ]
  },
  {
   "cell_type": "markdown",
   "metadata": {},
   "source": [
    "## Model Definitions\n",
    "1. LSTM\n",
    "2. Bi-directional LSTM\n",
    "3. RNN\n",
    "4. BERT\n",
    "5. Self-Attention"
   ]
  },
  {
   "cell_type": "code",
   "execution_count": 85,
   "metadata": {},
   "outputs": [],
   "source": [
    "def make_lstm_classification_model(plot=False):\n",
    "    model = keras.models.Sequential()\n",
    "    model.add(Embedding(VOCAB_SIZE, 100, weights=[embedding_matrix], input_length=MAX_SEQUENCE_LENGTH, trainable=False))\n",
    "    # model.add(Masking(mask_value=0.0)) # masking layer, masks any words that don't have an embedding as 0s.\n",
    "    model.add(CuDNNLSTM(units=64, input_shape=(1, MAX_SEQUENCE_LENGTH)))\n",
    "    model.add(Dense(16))\n",
    "    model.add(Dense(NUM_CLASSES, activation='softmax'))\n",
    "    \n",
    "    # Compile the model\n",
    "    model.compile(loss=\"categorical_crossentropy\", optimizer= \"adam\", metrics=['accuracy'])\n",
    "    # summarize the model\n",
    "    model.summary()\n",
    "    \n",
    "    if plot:\n",
    "        plot_model(model, to_file='model.png', show_shapes=True)\n",
    "    return model"
   ]
  },
  {
   "cell_type": "code",
   "execution_count": 86,
   "metadata": {},
   "outputs": [
    {
     "name": "stdout",
     "output_type": "stream",
     "text": [
      "Model: \"sequential\"\n",
      "_________________________________________________________________\n",
      "Layer (type)                 Output Shape              Param #   \n",
      "=================================================================\n",
      "embedding (Embedding)        (None, 300, 100)          2000000   \n",
      "_________________________________________________________________\n",
      "cu_dnnlstm (CuDNNLSTM)       (None, 64)                42496     \n",
      "_________________________________________________________________\n",
      "dense (Dense)                (None, 16)                1040      \n",
      "_________________________________________________________________\n",
      "dense_1 (Dense)              (None, 5)                 85        \n",
      "=================================================================\n",
      "Total params: 2,043,621\n",
      "Trainable params: 43,621\n",
      "Non-trainable params: 2,000,000\n",
      "_________________________________________________________________\n"
     ]
    }
   ],
   "source": [
    "model1 = make_lstm_classification_model()"
   ]
  },
  {
   "cell_type": "code",
   "execution_count": 87,
   "metadata": {},
   "outputs": [],
   "source": [
    "def fit_model(model, gpu = USE_GPU):\n",
    "    if not USE_GPU:\n",
    "        with tf.device('/cpu:0'):\n",
    "            history = model.fit(X_train, y_train, validation_data=(X_test,y_test), epochs=10, verbose=1)\n",
    "    else:\n",
    "            history = model.fit(X_train, y_train, validation_data=(X_test,y_test), epochs=10, verbose=1)\n",
    "    return history"
   ]
  },
  {
   "cell_type": "code",
   "execution_count": 88,
   "metadata": {},
   "outputs": [
    {
     "name": "stdout",
     "output_type": "stream",
     "text": [
      "Epoch 1/10\n",
      "4061/4061 [==============================] - 57s 14ms/step - loss: 1.0879 - accuracy: 0.6037 - val_loss: 0.7456 - val_accuracy: 0.7224\n",
      "Epoch 2/10\n",
      "4061/4061 [==============================] - 57s 14ms/step - loss: 0.6024 - accuracy: 0.7804 - val_loss: 0.5363 - val_accuracy: 0.8118\n",
      "Epoch 3/10\n",
      "4061/4061 [==============================] - 57s 14ms/step - loss: 0.4730 - accuracy: 0.8375 - val_loss: 0.4603 - val_accuracy: 0.8424\n",
      "Epoch 4/10\n",
      "4061/4061 [==============================] - 57s 14ms/step - loss: 0.4217 - accuracy: 0.8581 - val_loss: 0.4507 - val_accuracy: 0.8508\n",
      "Epoch 5/10\n",
      "4061/4061 [==============================] - 57s 14ms/step - loss: 0.3875 - accuracy: 0.8685 - val_loss: 0.4102 - val_accuracy: 0.8616\n",
      "Epoch 6/10\n",
      "4061/4061 [==============================] - 57s 14ms/step - loss: 0.3561 - accuracy: 0.8776 - val_loss: 0.3917 - val_accuracy: 0.8644\n",
      "Epoch 7/10\n",
      "4061/4061 [==============================] - 57s 14ms/step - loss: 0.3346 - accuracy: 0.8840 - val_loss: 0.3866 - val_accuracy: 0.8676\n",
      "Epoch 8/10\n",
      "4061/4061 [==============================] - 57s 14ms/step - loss: 0.3201 - accuracy: 0.8898 - val_loss: 0.3757 - val_accuracy: 0.8703\n",
      "Epoch 9/10\n",
      "4061/4061 [==============================] - 56s 14ms/step - loss: 0.3043 - accuracy: 0.8944 - val_loss: 0.3744 - val_accuracy: 0.8710\n",
      "Epoch 10/10\n",
      "4061/4061 [==============================] - 56s 14ms/step - loss: 0.2912 - accuracy: 0.8995 - val_loss: 0.3718 - val_accuracy: 0.8727\n"
     ]
    }
   ],
   "source": [
    "# fit the model\n",
    "history1 = fit_model(model1, gpu=1)"
   ]
  },
  {
   "cell_type": "code",
   "execution_count": 83,
   "metadata": {},
   "outputs": [],
   "source": [
    "K.clear_session()"
   ]
  },
  {
   "cell_type": "code",
   "execution_count": 46,
   "metadata": {},
   "outputs": [],
   "source": [
    "# From https://keras.io/visualization/\n",
    "def plot_performance(history):\n",
    "    # Plot training & validation accuracy values\n",
    "    plt.plot(history.history['accuracy'])\n",
    "    plt.plot(history.history['val_accuracy'])\n",
    "    plt.title('Model accuracy')\n",
    "    plt.ylabel('Accuracy')\n",
    "    plt.xlabel('Epoch')\n",
    "    plt.legend(['Train', 'Test'], loc='upper left')\n",
    "    plt.show()\n",
    "\n",
    "# plot_performance(history)"
   ]
  },
  {
   "cell_type": "code",
   "execution_count": 39,
   "metadata": {},
   "outputs": [],
   "source": [
    "def make_bi_lstm_classification_model(plot=False):\n",
    "    model = keras.models.Sequential()\n",
    "    model.add(Embedding(VOCAB_SIZE, 100, weights=[embedding_matrix], input_length=MAX_SEQUENCE_LENGTH, trainable=False))\n",
    "    model.add(SpatialDropout1D(0.2)) #spatial dropout the whole channel to increase performance and prevent overfitting\n",
    "    model.add(Bidirectional(CuDNNLSTM(64, return_sequences=True)))\n",
    "    model.add(Bidirectional(CuDNNLSTM(32)))\n",
    "    model.add(Dropout(0.25)) #dropout to prevent overfitting\n",
    "    model.add(Dense(NUM_CLASSES, activation='softmax'))\n",
    "    \n",
    "    # Compile the model\n",
    "    model.compile(loss=\"categorical_crossentropy\", optimizer= \"adam\", metrics=['accuracy'])\n",
    "    # summarize the model\n",
    "    model.summary()\n",
    "    \n",
    "    if plot:\n",
    "        plot_model(model, to_file='model.png', show_shapes=True)\n",
    "    return model"
   ]
  },
  {
   "cell_type": "code",
   "execution_count": 40,
   "metadata": {},
   "outputs": [
    {
     "name": "stdout",
     "output_type": "stream",
     "text": [
      "Model: \"sequential\"\n",
      "_________________________________________________________________\n",
      "Layer (type)                 Output Shape              Param #   \n",
      "=================================================================\n",
      "embedding (Embedding)        (None, 300, 100)          2000000   \n",
      "_________________________________________________________________\n",
      "spatial_dropout1d (SpatialDr (None, 300, 100)          0         \n",
      "_________________________________________________________________\n",
      "bidirectional (Bidirectional (None, 300, 128)          84992     \n",
      "_________________________________________________________________\n",
      "bidirectional_1 (Bidirection (None, 64)                41472     \n",
      "_________________________________________________________________\n",
      "dropout (Dropout)            (None, 64)                0         \n",
      "_________________________________________________________________\n",
      "dense (Dense)                (None, 5)                 325       \n",
      "=================================================================\n",
      "Total params: 2,126,789\n",
      "Trainable params: 126,789\n",
      "Non-trainable params: 2,000,000\n",
      "_________________________________________________________________\n"
     ]
    }
   ],
   "source": [
    "model2 = make_bi_lstm_classification_model()"
   ]
  },
  {
   "cell_type": "code",
   "execution_count": 41,
   "metadata": {},
   "outputs": [
    {
     "name": "stdout",
     "output_type": "stream",
     "text": [
      "Epoch 1/10\n",
      "4061/4061 [==============================] - 173s 42ms/step - loss: 0.5640 - accuracy: 0.8005 - val_loss: 0.4402 - val_accuracy: 0.8440\n",
      "Epoch 2/10\n",
      "4061/4061 [==============================] - 141s 35ms/step - loss: 0.4235 - accuracy: 0.8516 - val_loss: 0.4046 - val_accuracy: 0.8565\n",
      "Epoch 3/10\n",
      "4061/4061 [==============================] - 139s 34ms/step - loss: 0.3882 - accuracy: 0.8633 - val_loss: 0.3891 - val_accuracy: 0.8609\n",
      "Epoch 4/10\n",
      "4061/4061 [==============================] - 140s 34ms/step - loss: 0.3669 - accuracy: 0.8702 - val_loss: 0.3736 - val_accuracy: 0.8658\n",
      "Epoch 5/10\n",
      "4061/4061 [==============================] - 140s 35ms/step - loss: 0.3470 - accuracy: 0.8774 - val_loss: 0.3576 - val_accuracy: 0.8723\n",
      "Epoch 6/10\n",
      "4061/4061 [==============================] - 140s 35ms/step - loss: 0.3339 - accuracy: 0.8822 - val_loss: 0.3487 - val_accuracy: 0.8739\n",
      "Epoch 7/10\n",
      "4061/4061 [==============================] - 140s 35ms/step - loss: 0.3209 - accuracy: 0.8866 - val_loss: 0.3486 - val_accuracy: 0.8761\n",
      "Epoch 8/10\n",
      "4061/4061 [==============================] - 140s 35ms/step - loss: 0.3126 - accuracy: 0.8892 - val_loss: 0.3448 - val_accuracy: 0.8747\n",
      "Epoch 9/10\n",
      "4061/4061 [==============================] - 140s 35ms/step - loss: 0.3017 - accuracy: 0.8937 - val_loss: 0.3526 - val_accuracy: 0.8766\n",
      "Epoch 10/10\n",
      "4061/4061 [==============================] - 140s 35ms/step - loss: 0.2952 - accuracy: 0.8961 - val_loss: 0.3421 - val_accuracy: 0.8803\n"
     ]
    }
   ],
   "source": [
    "# fit the model\n",
    "history2 = fit_model(model2, gpu=0)"
   ]
  },
  {
   "cell_type": "code",
   "execution_count": 47,
   "metadata": {},
   "outputs": [
    {
     "data": {
      "image/png": "[encoded data removed]",
      "text/plain": [
       "<Figure size 432x288 with 1 Axes>"
      ]
     },
     "metadata": {
      "needs_background": "light"
     },
     "output_type": "display_data"
    }
   ],
   "source": [
    "plot_performance(history2)"
   ]
  },
  {
   "cell_type": "code",
   "execution_count": null,
   "metadata": {},
   "outputs": [],
   "source": [
    "K.clear_session()"
   ]
  },
  {
   "cell_type": "code",
   "execution_count": 48,
   "metadata": {},
   "outputs": [],
   "source": [
    "def make_rnn_classification_model(plot=False):\n",
    "    model = keras.models.Sequential()\n",
    "    model.add(Embedding(VOCAB_SIZE, 100, weights=[embedding_matrix], input_length=MAX_SEQUENCE_LENGTH, trainable=False))\n",
    "    model.add(SimpleRNN(64))\n",
    "    model.add(Dense(NUM_CLASSES, activation='softmax'))\n",
    "    \n",
    "    # Compile the model\n",
    "    model.compile(loss=\"categorical_crossentropy\", optimizer= \"adam\", metrics=['accuracy'])\n",
    "    # summarize the model\n",
    "    model.summary()\n",
    "    \n",
    "    if plot:\n",
    "        plot_model(model, to_file='model.png', show_shapes=True)\n",
    "    return model"
   ]
  },
  {
   "cell_type": "code",
   "execution_count": 49,
   "metadata": {},
   "outputs": [
    {
     "name": "stdout",
     "output_type": "stream",
     "text": [
      "Model: \"sequential_1\"\n",
      "_________________________________________________________________\n",
      "Layer (type)                 Output Shape              Param #   \n",
      "=================================================================\n",
      "embedding_1 (Embedding)      (None, 300, 100)          2000000   \n",
      "_________________________________________________________________\n",
      "simple_rnn (SimpleRNN)       (None, 64)                10560     \n",
      "_________________________________________________________________\n",
      "dense_1 (Dense)              (None, 5)                 325       \n",
      "=================================================================\n",
      "Total params: 2,010,885\n",
      "Trainable params: 10,885\n",
      "Non-trainable params: 2,000,000\n",
      "_________________________________________________________________\n"
     ]
    }
   ],
   "source": [
    "model3 = make_rnn_classification_model()"
   ]
  },
  {
   "cell_type": "code",
   "execution_count": 51,
   "metadata": {},
   "outputs": [
    {
     "name": "stdout",
     "output_type": "stream",
     "text": [
      "Epoch 1/10\n",
      "4061/4061 [==============================] - 1334s 329ms/step - loss: 1.2837 - accuracy: 0.5615 - val_loss: 1.2763 - val_accuracy: 0.5621\n",
      "Epoch 2/10\n",
      "4061/4061 [==============================] - 1325s 326ms/step - loss: 1.2359 - accuracy: 0.5631 - val_loss: 1.2657 - val_accuracy: 0.5676\n",
      "Epoch 3/10\n",
      "4061/4061 [==============================] - 1321s 325ms/step - loss: 1.2363 - accuracy: 0.5622 - val_loss: 1.2764 - val_accuracy: 0.5623\n",
      "Epoch 4/10\n",
      "4061/4061 [==============================] - 1320s 325ms/step - loss: 1.2824 - accuracy: 0.5621 - val_loss: 1.2836 - val_accuracy: 0.5623\n",
      "Epoch 5/10\n",
      "4061/4061 [==============================] - 1315s 324ms/step - loss: 1.2817 - accuracy: 0.5626 - val_loss: 1.2775 - val_accuracy: 0.5633\n",
      "Epoch 6/10\n",
      "4061/4061 [==============================] - 1318s 325ms/step - loss: 1.2590 - accuracy: 0.5642 - val_loss: 1.2715 - val_accuracy: 0.5641\n",
      "Epoch 7/10\n",
      "4061/4061 [==============================] - 1321s 325ms/step - loss: 1.2744 - accuracy: 0.5654 - val_loss: 1.2696 - val_accuracy: 0.5643\n",
      "Epoch 8/10\n",
      "4061/4061 [==============================] - 1321s 325ms/step - loss: 1.2674 - accuracy: 0.5664 - val_loss: 1.2694 - val_accuracy: 0.5644\n",
      "Epoch 9/10\n",
      "4061/4061 [==============================] - 1328s 327ms/step - loss: 1.2554 - accuracy: 0.5671 - val_loss: 1.2674 - val_accuracy: 0.5648\n",
      "Epoch 10/10\n",
      "4061/4061 [==============================] - 1330s 327ms/step - loss: 1.2430 - accuracy: 0.5673 - val_loss: 1.2015 - val_accuracy: 0.5647\n"
     ]
    }
   ],
   "source": [
    "history3 = fit_model(model3, gpu=0)"
   ]
  },
  {
   "cell_type": "code",
   "execution_count": null,
   "metadata": {},
   "outputs": [],
   "source": [
    "K.clear_session()"
   ]
  },
  {
   "cell_type": "code",
   "execution_count": 52,
   "metadata": {},
   "outputs": [],
   "source": [
    "# model courtesy of Polignano et al.: https://dl.acm.org/doi/10.1145/3314183.3324983\n",
    "def make_bi_lstm_self_attention_classification_model(plot=False):\n",
    "    input = Input(shape=(MAX_SEQUENCE_LENGTH,))\n",
    "    model = Embedding(VOCAB_SIZE, 100, weights=[embedding_matrix], input_length=MAX_SEQUENCE_LENGTH, trainable=False) (input)\n",
    "    # model = SpatialDropout1D(0.2) (model) #spatial dropout the whole channel to increase performance and prevent overfitting\n",
    "    bi = Bidirectional(CuDNNLSTM(64, return_sequences=True)) (model)\n",
    "    model = SeqSelfAttention(attention_activation='relu') (bi)\n",
    "    model = Conv1D(128, 5, activation='relu') (model)\n",
    "    model = MaxPooling1D() (model)\n",
    "    model = Dropout(0.2) (model) #dropout to prevent overfitting\n",
    "    model = Concatenate(axis=1)([model, bi])\n",
    "    model = GlobalMaxPooling1D() (model)\n",
    "    model = Dense(100, activation='softmax') (model)\n",
    "    model = Dropout(0.2) (model)\n",
    "    model = Dense(NUM_CLASSES, activation='softmax') (model)\n",
    "    \n",
    "    # Compile the model\n",
    "    # model.compile(loss=\"categorical_crossentropy\", optimizer= \"adam\", metrics=['accuracy'])\n",
    "    m = keras.models.Model(inputs=[input], outputs=[model])\n",
    "    m.compile(loss=\"categorical_crossentropy\", optimizer= \"adam\", metrics=['accuracy'])\n",
    "    # summarize the model\n",
    "    m.summary()\n",
    "    \n",
    "    if plot:\n",
    "        plot_model(model, to_file='model.png', show_shapes=True)\n",
    "    return m"
   ]
  },
  {
   "cell_type": "code",
   "execution_count": 53,
   "metadata": {},
   "outputs": [
    {
     "name": "stdout",
     "output_type": "stream",
     "text": [
      "Model: \"model\"\n",
      "__________________________________________________________________________________________________\n",
      "Layer (type)                    Output Shape         Param #     Connected to                     \n",
      "==================================================================================================\n",
      "input_1 (InputLayer)            [(None, 300)]        0                                            \n",
      "__________________________________________________________________________________________________\n",
      "embedding_2 (Embedding)         (None, 300, 100)     2000000     input_1[0][0]                    \n",
      "__________________________________________________________________________________________________\n",
      "bidirectional_2 (Bidirectional) (None, 300, 128)     84992       embedding_2[0][0]                \n",
      "__________________________________________________________________________________________________\n",
      "seq_self_attention (SeqSelfAtte (None, 300, 128)     8257        bidirectional_2[0][0]            \n",
      "__________________________________________________________________________________________________\n",
      "conv1d (Conv1D)                 (None, 296, 128)     82048       seq_self_attention[0][0]         \n",
      "__________________________________________________________________________________________________\n",
      "max_pooling1d (MaxPooling1D)    (None, 148, 128)     0           conv1d[0][0]                     \n",
      "__________________________________________________________________________________________________\n",
      "dropout_1 (Dropout)             (None, 148, 128)     0           max_pooling1d[0][0]              \n",
      "__________________________________________________________________________________________________\n",
      "concatenate (Concatenate)       (None, 448, 128)     0           dropout_1[0][0]                  \n",
      "                                                                 bidirectional_2[0][0]            \n",
      "__________________________________________________________________________________________________\n",
      "global_max_pooling1d (GlobalMax (None, 128)          0           concatenate[0][0]                \n",
      "__________________________________________________________________________________________________\n",
      "dense_2 (Dense)                 (None, 100)          12900       global_max_pooling1d[0][0]       \n",
      "__________________________________________________________________________________________________\n",
      "dropout_2 (Dropout)             (None, 100)          0           dense_2[0][0]                    \n",
      "__________________________________________________________________________________________________\n",
      "dense_3 (Dense)                 (None, 5)            505         dropout_2[0][0]                  \n",
      "==================================================================================================\n",
      "Total params: 2,188,702\n",
      "Trainable params: 188,702\n",
      "Non-trainable params: 2,000,000\n",
      "__________________________________________________________________________________________________\n"
     ]
    }
   ],
   "source": [
    "model4 = make_bi_lstm_self_attention_classification_model()"
   ]
  },
  {
   "cell_type": "code",
   "execution_count": 54,
   "metadata": {},
   "outputs": [
    {
     "name": "stdout",
     "output_type": "stream",
     "text": [
      "Epoch 1/10\n",
      "4061/4061 [==============================] - 144s 34ms/step - loss: 1.3047 - accuracy: 0.5611 - val_loss: 1.2848 - val_accuracy: 0.5614\n",
      "Epoch 2/10\n",
      "4061/4061 [==============================] - 140s 34ms/step - loss: 1.2852 - accuracy: 0.5614 - val_loss: 1.2847 - val_accuracy: 0.5614\n",
      "Epoch 3/10\n",
      "4061/4061 [==============================] - 140s 34ms/step - loss: 1.0075 - accuracy: 0.6322 - val_loss: 0.6191 - val_accuracy: 0.8235\n",
      "Epoch 4/10\n",
      "4061/4061 [==============================] - 140s 34ms/step - loss: 0.5582 - accuracy: 0.8081 - val_loss: 0.4401 - val_accuracy: 0.8620\n",
      "Epoch 5/10\n",
      "4061/4061 [==============================] - 140s 35ms/step - loss: 0.4729 - accuracy: 0.8337 - val_loss: 0.4102 - val_accuracy: 0.8700\n",
      "Epoch 6/10\n",
      "4061/4061 [==============================] - 140s 34ms/step - loss: 0.4156 - accuracy: 0.8659 - val_loss: 0.3788 - val_accuracy: 0.8747\n",
      "Epoch 7/10\n",
      "4061/4061 [==============================] - 140s 34ms/step - loss: 0.3748 - accuracy: 0.8834 - val_loss: 0.3730 - val_accuracy: 0.8748\n",
      "Epoch 8/10\n",
      "4061/4061 [==============================] - 140s 34ms/step - loss: 0.3438 - accuracy: 0.8925 - val_loss: 0.3593 - val_accuracy: 0.8767\n",
      "Epoch 9/10\n",
      "4061/4061 [==============================] - 140s 34ms/step - loss: 0.3216 - accuracy: 0.8998 - val_loss: 0.3641 - val_accuracy: 0.8757\n",
      "Epoch 10/10\n",
      "4061/4061 [==============================] - 140s 34ms/step - loss: 0.2993 - accuracy: 0.9079 - val_loss: 0.3685 - val_accuracy: 0.8766\n"
     ]
    }
   ],
   "source": [
    "history4 = fit_model(model4, gpu=1)"
   ]
  },
  {
   "cell_type": "code",
   "execution_count": null,
   "metadata": {},
   "outputs": [],
   "source": [
    "K.clear_session()"
   ]
  },
  {
   "cell_type": "code",
   "execution_count": 56,
   "metadata": {},
   "outputs": [],
   "source": [
    "def create_confusion_matrix(model):\n",
    "    y_pred = model.predict(X_test)\n",
    "    y_classes_pred = y_pred.argmax(axis=-1)\n",
    "    y_classes_true = y_test.argmax(axis=-1)\n",
    "    cf_matrix = confusion_matrix(y_classes_true, y_classes_pred)\n",
    "    sns.heatmap(cf_matrix, annot=True)\n",
    "    return cf_matrix"
   ]
  },
  {
   "cell_type": "markdown",
   "metadata": {},
   "source": [
    "## Model Evaluations/Comparisons"
   ]
  },
  {
   "cell_type": "code",
   "execution_count": 57,
   "metadata": {},
   "outputs": [
    {
     "data": {
      "text/plain": [
       "array([[ 2375,   376,    85,    60,   217],\n",
       "       [  253, 17183,   550,   196,    54],\n",
       "       [  176,  1043,  3146,   210,    55],\n",
       "       [   66,   481,   110,  3085,    56],\n",
       "       [  292,    51,    31,    84,  2249]], dtype=int64)"
      ]
     },
     "execution_count": 57,
     "metadata": {},
     "output_type": "execute_result"
    },
    {
     "data": {
      "image/png": "[encoded data removed]",
      "text/plain": [
       "<Figure size 432x288 with 2 Axes>"
      ]
     },
     "metadata": {
      "needs_background": "light"
     },
     "output_type": "display_data"
    }
   ],
   "source": [
    "create_confusion_matrix(model1)"
   ]
  },
  {
   "cell_type": "code",
   "execution_count": 58,
   "metadata": {},
   "outputs": [
    {
     "data": {
      "text/plain": [
       "array([[ 2489,   308,    96,    41,   179],\n",
       "       [  244, 17128,   611,   215,    38],\n",
       "       [  126,   750,  3534,   188,    32],\n",
       "       [   67,   396,   131,  3148,    56],\n",
       "       [  259,    55,    39,    58,  2296]], dtype=int64)"
      ]
     },
     "execution_count": 58,
     "metadata": {},
     "output_type": "execute_result"
    },
    {
     "data": {
      "image/png": "[encoded data removed]",
      "text/plain": [
       "<Figure size 432x288 with 2 Axes>"
      ]
     },
     "metadata": {
      "needs_background": "light"
     },
     "output_type": "display_data"
    }
   ],
   "source": [
    "create_confusion_matrix(model2)"
   ]
  },
  {
   "cell_type": "code",
   "execution_count": 65,
   "metadata": {},
   "outputs": [
    {
     "data": {
      "text/plain": [
       "array([[   21,  3027,     5,    40,    20],\n",
       "       [   13, 18161,    15,    34,    13],\n",
       "       [   13,  4572,    20,    22,     3],\n",
       "       [   20,  3626,    16,   122,    14],\n",
       "       [   18,  2624,     6,    40,    19]], dtype=int64)"
      ]
     },
     "execution_count": 65,
     "metadata": {},
     "output_type": "execute_result"
    },
    {
     "data": {
      "image/png": "[encoded data removed]",
      "text/plain": [
       "<Figure size 432x288 with 2 Axes>"
      ]
     },
     "metadata": {
      "needs_background": "light"
     },
     "output_type": "display_data"
    }
   ],
   "source": [
    "create_confusion_matrix(model3)"
   ]
  },
  {
   "cell_type": "code",
   "execution_count": 66,
   "metadata": {},
   "outputs": [
    {
     "data": {
      "text/plain": [
       "array([[ 2458,   371,    65,    13,   206],\n",
       "       [  212, 17539,   330,   108,    47],\n",
       "       [  166,  1131,  3142,   156,    35],\n",
       "       [   94,   536,    90,  2997,    81],\n",
       "       [  245,    66,    19,    37,  2340]], dtype=int64)"
      ]
     },
     "execution_count": 66,
     "metadata": {},
     "output_type": "execute_result"
    },
    {
     "data": {
      "image/png": "[encoded data removed]",
      "text/plain": [
       "<Figure size 432x288 with 2 Axes>"
      ]
     },
     "metadata": {
      "needs_background": "light"
     },
     "output_type": "display_data"
    }
   ],
   "source": [
    "create_confusion_matrix(model4)"
   ]
  },
  {
   "cell_type": "code",
   "execution_count": 89,
   "metadata": {},
   "outputs": [
    {
     "data": {
      "image/png": "[encoded data removed]",
      "text/plain": [
       "<Figure size 432x288 with 1 Axes>"
      ]
     },
     "metadata": {
      "needs_background": "light"
     },
     "output_type": "display_data"
    }
   ],
   "source": [
    "plot_performance(history1)"
   ]
  },
  {
   "cell_type": "code",
   "execution_count": 76,
   "metadata": {},
   "outputs": [
    {
     "data": {
      "image/png": "[encoded data removed]",
      "text/plain": [
       "<Figure size 432x288 with 1 Axes>"
      ]
     },
     "metadata": {
      "needs_background": "light"
     },
     "output_type": "display_data"
    }
   ],
   "source": [
    "plot_performance(history2)"
   ]
  },
  {
   "cell_type": "code",
   "execution_count": 79,
   "metadata": {},
   "outputs": [
    {
     "data": {
      "image/png": "[encoded data removed]",
      "text/plain": [
       "<Figure size 432x288 with 1 Axes>"
      ]
     },
     "metadata": {
      "needs_background": "light"
     },
     "output_type": "display_data"
    }
   ],
   "source": [
    "plot_performance(history3)"
   ]
  },
  {
   "cell_type": "code",
   "execution_count": 80,
   "metadata": {},
   "outputs": [
    {
     "data": {
      "image/png": "[encoded data removed]",
      "text/plain": [
       "<Figure size 432x288 with 1 Axes>"
      ]
     },
     "metadata": {
      "needs_background": "light"
     },
     "output_type": "display_data"
    }
   ],
   "source": [
    "plot_performance(history4)"
   ]
  },
  {
   "cell_type": "code",
   "execution_count": null,
   "metadata": {},
   "outputs": [],
   "source": []
  }
 ],
 "metadata": {
  "interpreter": {
   "hash": "24fc73094f8a196fe985e9cec150bb3b8682fc6c53d99116aa43be7ab4e847d6"
  },
  "kernelspec": {
   "display_name": "Python 3.9.10 ('base')",
   "language": "python",
   "name": "python3"
  },
  "language_info": {
   "codemirror_mode": {
    "name": "ipython",
    "version": 3
   },
   "file_extension": ".py",
   "mimetype": "text/x-python",
   "name": "python",
   "nbconvert_exporter": "python",
   "pygments_lexer": "ipython3",
   "version": "3.9.10"
  },
  "orig_nbformat": 4
 },
 "nbformat": 4,
 "nbformat_minor": 2
}
